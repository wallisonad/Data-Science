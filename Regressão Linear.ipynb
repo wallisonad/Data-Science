{
 "cells": [
  {
   "cell_type": "markdown",
   "metadata": {},
   "source": [
    "# 1. Realize um estudo inicial sobre as variáveis da amostra proposta. Aponte possíveis relacionamentos entre as variáveis estudadas, fazendo uso das estatísticas calculadas e de gráficos (scatterplot, modelo de regressão, mapa de calor)."
   ]
  },
  {
   "cell_type": "code",
   "execution_count": 333,
   "metadata": {},
   "outputs": [],
   "source": [
    "#Importando as bibliotecas do pandas\n",
    "\n",
    "import pandas as pd, numpy as np, scipy as sp, seaborn as sb\n",
    "import matplotlib.pyplot as plt\n",
    "import statsmodels.api as sm\n",
    "%matplotlib inline"
   ]
  },
  {
   "cell_type": "code",
   "execution_count": 334,
   "metadata": {},
   "outputs": [
    {
     "data": {
      "text/html": [
       "<div>\n",
       "<style scoped>\n",
       "    .dataframe tbody tr th:only-of-type {\n",
       "        vertical-align: middle;\n",
       "    }\n",
       "\n",
       "    .dataframe tbody tr th {\n",
       "        vertical-align: top;\n",
       "    }\n",
       "\n",
       "    .dataframe thead th {\n",
       "        text-align: right;\n",
       "    }\n",
       "</style>\n",
       "<table border=\"1\" class=\"dataframe\">\n",
       "  <thead>\n",
       "    <tr style=\"text-align: right;\">\n",
       "      <th></th>\n",
       "      <th>Var1</th>\n",
       "      <th>Var2</th>\n",
       "      <th>Var3</th>\n",
       "      <th>Var4</th>\n",
       "      <th>Var5</th>\n",
       "      <th>Var6</th>\n",
       "      <th>Var7</th>\n",
       "      <th>Var8</th>\n",
       "      <th>Var9</th>\n",
       "      <th>Var10</th>\n",
       "      <th>Var11</th>\n",
       "      <th>Var12</th>\n",
       "      <th>Var13</th>\n",
       "      <th>Var14</th>\n",
       "      <th>Var15</th>\n",
       "      <th>Var16</th>\n",
       "    </tr>\n",
       "  </thead>\n",
       "  <tbody>\n",
       "    <tr>\n",
       "      <th>0</th>\n",
       "      <td>1</td>\n",
       "      <td>12</td>\n",
       "      <td>4</td>\n",
       "      <td>3</td>\n",
       "      <td>0.0</td>\n",
       "      <td>2752</td>\n",
       "      <td>5091</td>\n",
       "      <td>178</td>\n",
       "      <td>109</td>\n",
       "      <td>159</td>\n",
       "      <td>3078</td>\n",
       "      <td>1640</td>\n",
       "      <td>4</td>\n",
       "      <td>79.0</td>\n",
       "      <td>17.0</td>\n",
       "      <td>100</td>\n",
       "    </tr>\n",
       "    <tr>\n",
       "      <th>1</th>\n",
       "      <td>2</td>\n",
       "      <td>12</td>\n",
       "      <td>3</td>\n",
       "      <td>10</td>\n",
       "      <td>0.0</td>\n",
       "      <td>10460</td>\n",
       "      <td>19057</td>\n",
       "      <td>1457</td>\n",
       "      <td>1361</td>\n",
       "      <td>1674</td>\n",
       "      <td>11710</td>\n",
       "      <td>6112</td>\n",
       "      <td>5</td>\n",
       "      <td>130.0</td>\n",
       "      <td>29.0</td>\n",
       "      <td>164</td>\n",
       "    </tr>\n",
       "    <tr>\n",
       "      <th>2</th>\n",
       "      <td>1</td>\n",
       "      <td>12</td>\n",
       "      <td>3</td>\n",
       "      <td>3</td>\n",
       "      <td>0.0</td>\n",
       "      <td>2413</td>\n",
       "      <td>4373</td>\n",
       "      <td>177</td>\n",
       "      <td>113</td>\n",
       "      <td>154</td>\n",
       "      <td>2812</td>\n",
       "      <td>1503</td>\n",
       "      <td>0</td>\n",
       "      <td>66.0</td>\n",
       "      <td>14.0</td>\n",
       "      <td>80</td>\n",
       "    </tr>\n",
       "    <tr>\n",
       "      <th>3</th>\n",
       "      <td>1</td>\n",
       "      <td>12</td>\n",
       "      <td>2</td>\n",
       "      <td>10</td>\n",
       "      <td>1.0</td>\n",
       "      <td>50128</td>\n",
       "      <td>87991</td>\n",
       "      <td>2211</td>\n",
       "      <td>790</td>\n",
       "      <td>1119</td>\n",
       "      <td>61027</td>\n",
       "      <td>32048</td>\n",
       "      <td>58</td>\n",
       "      <td>1572.0</td>\n",
       "      <td>147.0</td>\n",
       "      <td>1777</td>\n",
       "    </tr>\n",
       "    <tr>\n",
       "      <th>4</th>\n",
       "      <td>1</td>\n",
       "      <td>12</td>\n",
       "      <td>2</td>\n",
       "      <td>3</td>\n",
       "      <td>0.0</td>\n",
       "      <td>7244</td>\n",
       "      <td>13594</td>\n",
       "      <td>671</td>\n",
       "      <td>410</td>\n",
       "      <td>580</td>\n",
       "      <td>6228</td>\n",
       "      <td>3200</td>\n",
       "      <td>19</td>\n",
       "      <td>325.0</td>\n",
       "      <td>49.0</td>\n",
       "      <td>393</td>\n",
       "    </tr>\n",
       "    <tr>\n",
       "      <th>5</th>\n",
       "      <td>2</td>\n",
       "      <td>12</td>\n",
       "      <td>1</td>\n",
       "      <td>9</td>\n",
       "      <td>0.0</td>\n",
       "      <td>10472</td>\n",
       "      <td>20849</td>\n",
       "      <td>1191</td>\n",
       "      <td>1073</td>\n",
       "      <td>1389</td>\n",
       "      <td>16034</td>\n",
       "      <td>7852</td>\n",
       "      <td>1</td>\n",
       "      <td>152.0</td>\n",
       "      <td>33.0</td>\n",
       "      <td>186</td>\n",
       "    </tr>\n",
       "    <tr>\n",
       "      <th>6</th>\n",
       "      <td>1</td>\n",
       "      <td>12</td>\n",
       "      <td>1</td>\n",
       "      <td>3</td>\n",
       "      <td>1.0</td>\n",
       "      <td>11692</td>\n",
       "      <td>19479</td>\n",
       "      <td>481</td>\n",
       "      <td>265</td>\n",
       "      <td>364</td>\n",
       "      <td>15432</td>\n",
       "      <td>9328</td>\n",
       "      <td>3</td>\n",
       "      <td>249.0</td>\n",
       "      <td>27.0</td>\n",
       "      <td>279</td>\n",
       "    </tr>\n",
       "    <tr>\n",
       "      <th>7</th>\n",
       "      <td>1</td>\n",
       "      <td>12</td>\n",
       "      <td>7</td>\n",
       "      <td>9</td>\n",
       "      <td>1.0</td>\n",
       "      <td>13720</td>\n",
       "      <td>24137</td>\n",
       "      <td>537</td>\n",
       "      <td>232</td>\n",
       "      <td>305</td>\n",
       "      <td>19728</td>\n",
       "      <td>11056</td>\n",
       "      <td>0</td>\n",
       "      <td>325.0</td>\n",
       "      <td>14.0</td>\n",
       "      <td>339</td>\n",
       "    </tr>\n",
       "    <tr>\n",
       "      <th>8</th>\n",
       "      <td>2</td>\n",
       "      <td>12</td>\n",
       "      <td>7</td>\n",
       "      <td>3</td>\n",
       "      <td>0.0</td>\n",
       "      <td>11844</td>\n",
       "      <td>22538</td>\n",
       "      <td>1530</td>\n",
       "      <td>1407</td>\n",
       "      <td>1692</td>\n",
       "      <td>15220</td>\n",
       "      <td>7912</td>\n",
       "      <td>0</td>\n",
       "      <td>161.0</td>\n",
       "      <td>31.0</td>\n",
       "      <td>192</td>\n",
       "    </tr>\n",
       "    <tr>\n",
       "      <th>9</th>\n",
       "      <td>1</td>\n",
       "      <td>12</td>\n",
       "      <td>6</td>\n",
       "      <td>10</td>\n",
       "      <td>0.0</td>\n",
       "      <td>4694</td>\n",
       "      <td>8668</td>\n",
       "      <td>280</td>\n",
       "      <td>183</td>\n",
       "      <td>250</td>\n",
       "      <td>4309</td>\n",
       "      <td>2324</td>\n",
       "      <td>3</td>\n",
       "      <td>113.0</td>\n",
       "      <td>26.0</td>\n",
       "      <td>142</td>\n",
       "    </tr>\n",
       "  </tbody>\n",
       "</table>\n",
       "</div>"
      ],
      "text/plain": [
       "   Var1  Var2  Var3  Var4  Var5   Var6   Var7  Var8  Var9  Var10  Var11  \\\n",
       "0     1    12     4     3   0.0   2752   5091   178   109    159   3078   \n",
       "1     2    12     3    10   0.0  10460  19057  1457  1361   1674  11710   \n",
       "2     1    12     3     3   0.0   2413   4373   177   113    154   2812   \n",
       "3     1    12     2    10   1.0  50128  87991  2211   790   1119  61027   \n",
       "4     1    12     2     3   0.0   7244  13594   671   410    580   6228   \n",
       "5     2    12     1     9   0.0  10472  20849  1191  1073   1389  16034   \n",
       "6     1    12     1     3   1.0  11692  19479   481   265    364  15432   \n",
       "7     1    12     7     9   1.0  13720  24137   537   232    305  19728   \n",
       "8     2    12     7     3   0.0  11844  22538  1530  1407   1692  15220   \n",
       "9     1    12     6    10   0.0   4694   8668   280   183    250   4309   \n",
       "\n",
       "   Var12  Var13   Var14  Var15  Var16  \n",
       "0   1640      4    79.0   17.0    100  \n",
       "1   6112      5   130.0   29.0    164  \n",
       "2   1503      0    66.0   14.0     80  \n",
       "3  32048     58  1572.0  147.0   1777  \n",
       "4   3200     19   325.0   49.0    393  \n",
       "5   7852      1   152.0   33.0    186  \n",
       "6   9328      3   249.0   27.0    279  \n",
       "7  11056      0   325.0   14.0    339  \n",
       "8   7912      0   161.0   31.0    192  \n",
       "9   2324      3   113.0   26.0    142  "
      ]
     },
     "execution_count": 334,
     "metadata": {},
     "output_type": "execute_result"
    }
   ],
   "source": [
    "#Fazendo a leitura da base de dados\n",
    "\n",
    "dados = pd.read_csv('fb.csv')\n",
    "dados.head(10)"
   ]
  },
  {
   "cell_type": "code",
   "execution_count": 93,
   "metadata": {},
   "outputs": [],
   "source": [
    "# Caso queira renomear o nome das colunas\n",
    "\n",
    "dados.columns = ['Tipo de postagem', 'Mês da postagem', 'Dia da semana da postagem', 'Hora da postagem', 'Anúncio pago ou Não', 'Receberam e visualizaram a postagem', 'Receberam a postagem via propaganda', 'Realizaram like, compartilhamento ou comentário', 'Clicaram para visualizar a postagem', 'Clicaram e realizaram interação com postagem', 'Receberam e deram like', 'Receberam, visualização e deram like', 'Total de comentários', 'Total de likes', 'Total de compartilhamentos', 'Total de interações']"
   ]
  },
  {
   "cell_type": "code",
   "execution_count": 335,
   "metadata": {},
   "outputs": [
    {
     "data": {
      "text/plain": [
       "Var1     0\n",
       "Var2     0\n",
       "Var3     0\n",
       "Var4     0\n",
       "Var5     1\n",
       "Var6     0\n",
       "Var7     0\n",
       "Var8     0\n",
       "Var9     0\n",
       "Var10    0\n",
       "Var11    0\n",
       "Var12    0\n",
       "Var13    0\n",
       "Var14    1\n",
       "Var15    4\n",
       "Var16    0\n",
       "dtype: int64"
      ]
     },
     "execution_count": 335,
     "metadata": {},
     "output_type": "execute_result"
    }
   ],
   "source": [
    "# Verificar se há valores ausentes nos dados\n",
    "\n",
    "dados.isnull().sum()"
   ]
  },
  {
   "cell_type": "code",
   "execution_count": 336,
   "metadata": {},
   "outputs": [],
   "source": [
    "# Converter os valores faltantes NAN pela mediana\n",
    "\n",
    "dados.fillna(dados.median(), inplace=True)"
   ]
  },
  {
   "cell_type": "code",
   "execution_count": 337,
   "metadata": {},
   "outputs": [
    {
     "data": {
      "text/plain": [
       "Var1     0\n",
       "Var2     0\n",
       "Var3     0\n",
       "Var4     0\n",
       "Var5     0\n",
       "Var6     0\n",
       "Var7     0\n",
       "Var8     0\n",
       "Var9     0\n",
       "Var10    0\n",
       "Var11    0\n",
       "Var12    0\n",
       "Var13    0\n",
       "Var14    0\n",
       "Var15    0\n",
       "Var16    0\n",
       "dtype: int64"
      ]
     },
     "execution_count": 337,
     "metadata": {},
     "output_type": "execute_result"
    }
   ],
   "source": [
    "# Verificar se ocorreu mudança nos valores faltantes\n",
    "\n",
    "dados.isnull().sum()"
   ]
  },
  {
   "cell_type": "code",
   "execution_count": 212,
   "metadata": {},
   "outputs": [
    {
     "data": {
      "text/plain": [
       "Var1       int64\n",
       "Var2       int64\n",
       "Var3       int64\n",
       "Var4       int64\n",
       "Var5     float64\n",
       "Var6       int64\n",
       "Var7       int64\n",
       "Var8       int64\n",
       "Var9       int64\n",
       "Var10      int64\n",
       "Var11      int64\n",
       "Var12      int64\n",
       "Var13      int64\n",
       "Var14    float64\n",
       "Var15    float64\n",
       "Var16      int64\n",
       "dtype: object"
      ]
     },
     "execution_count": 212,
     "metadata": {},
     "output_type": "execute_result"
    }
   ],
   "source": [
    "# Mostra os tipos dos dados\n",
    "\n",
    "dados.dtypes"
   ]
  },
  {
   "cell_type": "code",
   "execution_count": 130,
   "metadata": {},
   "outputs": [
    {
     "data": {
      "text/plain": [
       "(500, 16)"
      ]
     },
     "execution_count": 130,
     "metadata": {},
     "output_type": "execute_result"
    }
   ],
   "source": [
    "# Verificar a quantidade de dados nas linhas e colunas da base de dados\n",
    "\n",
    "dados.shape"
   ]
  },
  {
   "cell_type": "code",
   "execution_count": 140,
   "metadata": {},
   "outputs": [
    {
     "data": {
      "text/html": [
       "<div>\n",
       "<style scoped>\n",
       "    .dataframe tbody tr th:only-of-type {\n",
       "        vertical-align: middle;\n",
       "    }\n",
       "\n",
       "    .dataframe tbody tr th {\n",
       "        vertical-align: top;\n",
       "    }\n",
       "\n",
       "    .dataframe thead th {\n",
       "        text-align: right;\n",
       "    }\n",
       "</style>\n",
       "<table border=\"1\" class=\"dataframe\">\n",
       "  <thead>\n",
       "    <tr style=\"text-align: right;\">\n",
       "      <th></th>\n",
       "      <th>Var1</th>\n",
       "      <th>Var2</th>\n",
       "      <th>Var3</th>\n",
       "      <th>Var4</th>\n",
       "      <th>Var5</th>\n",
       "      <th>Var6</th>\n",
       "      <th>Var7</th>\n",
       "      <th>Var8</th>\n",
       "      <th>Var9</th>\n",
       "      <th>Var10</th>\n",
       "      <th>Var11</th>\n",
       "      <th>Var12</th>\n",
       "      <th>Var13</th>\n",
       "      <th>Var14</th>\n",
       "      <th>Var15</th>\n",
       "      <th>Var16</th>\n",
       "    </tr>\n",
       "  </thead>\n",
       "  <tbody>\n",
       "    <tr>\n",
       "      <th>count</th>\n",
       "      <td>500.000000</td>\n",
       "      <td>500.000000</td>\n",
       "      <td>500.000000</td>\n",
       "      <td>500.000000</td>\n",
       "      <td>500.000000</td>\n",
       "      <td>500.00000</td>\n",
       "      <td>5.000000e+02</td>\n",
       "      <td>500.000000</td>\n",
       "      <td>500.000000</td>\n",
       "      <td>500.000000</td>\n",
       "      <td>5.000000e+02</td>\n",
       "      <td>500.000000</td>\n",
       "      <td>500.00000</td>\n",
       "      <td>500.000000</td>\n",
       "      <td>500.000000</td>\n",
       "      <td>500.000000</td>\n",
       "    </tr>\n",
       "    <tr>\n",
       "      <th>mean</th>\n",
       "      <td>1.220000</td>\n",
       "      <td>7.038000</td>\n",
       "      <td>4.150000</td>\n",
       "      <td>7.840000</td>\n",
       "      <td>0.278000</td>\n",
       "      <td>13903.36000</td>\n",
       "      <td>2.958595e+04</td>\n",
       "      <td>920.344000</td>\n",
       "      <td>798.772000</td>\n",
       "      <td>1415.130000</td>\n",
       "      <td>1.676638e+04</td>\n",
       "      <td>6585.488000</td>\n",
       "      <td>7.48200</td>\n",
       "      <td>177.792000</td>\n",
       "      <td>27.200000</td>\n",
       "      <td>212.120000</td>\n",
       "    </tr>\n",
       "    <tr>\n",
       "      <th>std</th>\n",
       "      <td>0.586761</td>\n",
       "      <td>3.307936</td>\n",
       "      <td>2.030701</td>\n",
       "      <td>4.368589</td>\n",
       "      <td>0.448462</td>\n",
       "      <td>22740.78789</td>\n",
       "      <td>7.680325e+04</td>\n",
       "      <td>985.016636</td>\n",
       "      <td>882.505013</td>\n",
       "      <td>2000.594118</td>\n",
       "      <td>5.979102e+04</td>\n",
       "      <td>7682.009405</td>\n",
       "      <td>21.18091</td>\n",
       "      <td>323.092858</td>\n",
       "      <td>42.448554</td>\n",
       "      <td>380.233118</td>\n",
       "    </tr>\n",
       "    <tr>\n",
       "      <th>min</th>\n",
       "      <td>1.000000</td>\n",
       "      <td>1.000000</td>\n",
       "      <td>1.000000</td>\n",
       "      <td>1.000000</td>\n",
       "      <td>0.000000</td>\n",
       "      <td>238.00000</td>\n",
       "      <td>5.700000e+02</td>\n",
       "      <td>9.000000</td>\n",
       "      <td>9.000000</td>\n",
       "      <td>9.000000</td>\n",
       "      <td>5.670000e+02</td>\n",
       "      <td>236.000000</td>\n",
       "      <td>0.00000</td>\n",
       "      <td>0.000000</td>\n",
       "      <td>0.000000</td>\n",
       "      <td>0.000000</td>\n",
       "    </tr>\n",
       "    <tr>\n",
       "      <th>25%</th>\n",
       "      <td>1.000000</td>\n",
       "      <td>4.000000</td>\n",
       "      <td>2.000000</td>\n",
       "      <td>3.000000</td>\n",
       "      <td>0.000000</td>\n",
       "      <td>3315.00000</td>\n",
       "      <td>5.694750e+03</td>\n",
       "      <td>393.750000</td>\n",
       "      <td>332.500000</td>\n",
       "      <td>509.250000</td>\n",
       "      <td>3.969750e+03</td>\n",
       "      <td>2181.500000</td>\n",
       "      <td>1.00000</td>\n",
       "      <td>56.750000</td>\n",
       "      <td>10.000000</td>\n",
       "      <td>71.000000</td>\n",
       "    </tr>\n",
       "    <tr>\n",
       "      <th>50%</th>\n",
       "      <td>1.000000</td>\n",
       "      <td>7.000000</td>\n",
       "      <td>4.000000</td>\n",
       "      <td>9.000000</td>\n",
       "      <td>0.000000</td>\n",
       "      <td>5281.00000</td>\n",
       "      <td>9.051000e+03</td>\n",
       "      <td>625.500000</td>\n",
       "      <td>551.500000</td>\n",
       "      <td>851.000000</td>\n",
       "      <td>6.255500e+03</td>\n",
       "      <td>3417.000000</td>\n",
       "      <td>3.00000</td>\n",
       "      <td>101.000000</td>\n",
       "      <td>19.000000</td>\n",
       "      <td>123.500000</td>\n",
       "    </tr>\n",
       "    <tr>\n",
       "      <th>75%</th>\n",
       "      <td>1.000000</td>\n",
       "      <td>10.000000</td>\n",
       "      <td>6.000000</td>\n",
       "      <td>11.000000</td>\n",
       "      <td>1.000000</td>\n",
       "      <td>13168.00000</td>\n",
       "      <td>2.208550e+04</td>\n",
       "      <td>1062.000000</td>\n",
       "      <td>955.500000</td>\n",
       "      <td>1463.000000</td>\n",
       "      <td>1.486050e+04</td>\n",
       "      <td>7989.000000</td>\n",
       "      <td>7.00000</td>\n",
       "      <td>187.250000</td>\n",
       "      <td>32.000000</td>\n",
       "      <td>228.500000</td>\n",
       "    </tr>\n",
       "    <tr>\n",
       "      <th>max</th>\n",
       "      <td>4.000000</td>\n",
       "      <td>12.000000</td>\n",
       "      <td>7.000000</td>\n",
       "      <td>23.000000</td>\n",
       "      <td>1.000000</td>\n",
       "      <td>180480.00000</td>\n",
       "      <td>1.110282e+06</td>\n",
       "      <td>11452.000000</td>\n",
       "      <td>11328.000000</td>\n",
       "      <td>19779.000000</td>\n",
       "      <td>1.107833e+06</td>\n",
       "      <td>51456.000000</td>\n",
       "      <td>372.00000</td>\n",
       "      <td>5172.000000</td>\n",
       "      <td>790.000000</td>\n",
       "      <td>6334.000000</td>\n",
       "    </tr>\n",
       "  </tbody>\n",
       "</table>\n",
       "</div>"
      ],
      "text/plain": [
       "             Var1        Var2        Var3        Var4        Var5  \\\n",
       "count  500.000000  500.000000  500.000000  500.000000  500.000000   \n",
       "mean     1.220000    7.038000    4.150000    7.840000    0.278000   \n",
       "std      0.586761    3.307936    2.030701    4.368589    0.448462   \n",
       "min      1.000000    1.000000    1.000000    1.000000    0.000000   \n",
       "25%      1.000000    4.000000    2.000000    3.000000    0.000000   \n",
       "50%      1.000000    7.000000    4.000000    9.000000    0.000000   \n",
       "75%      1.000000   10.000000    6.000000   11.000000    1.000000   \n",
       "max      4.000000   12.000000    7.000000   23.000000    1.000000   \n",
       "\n",
       "               Var6          Var7          Var8          Var9         Var10  \\\n",
       "count     500.00000  5.000000e+02    500.000000    500.000000    500.000000   \n",
       "mean    13903.36000  2.958595e+04    920.344000    798.772000   1415.130000   \n",
       "std     22740.78789  7.680325e+04    985.016636    882.505013   2000.594118   \n",
       "min       238.00000  5.700000e+02      9.000000      9.000000      9.000000   \n",
       "25%      3315.00000  5.694750e+03    393.750000    332.500000    509.250000   \n",
       "50%      5281.00000  9.051000e+03    625.500000    551.500000    851.000000   \n",
       "75%     13168.00000  2.208550e+04   1062.000000    955.500000   1463.000000   \n",
       "max    180480.00000  1.110282e+06  11452.000000  11328.000000  19779.000000   \n",
       "\n",
       "              Var11         Var12      Var13        Var14       Var15  \\\n",
       "count  5.000000e+02    500.000000  500.00000   500.000000  500.000000   \n",
       "mean   1.676638e+04   6585.488000    7.48200   177.792000   27.200000   \n",
       "std    5.979102e+04   7682.009405   21.18091   323.092858   42.448554   \n",
       "min    5.670000e+02    236.000000    0.00000     0.000000    0.000000   \n",
       "25%    3.969750e+03   2181.500000    1.00000    56.750000   10.000000   \n",
       "50%    6.255500e+03   3417.000000    3.00000   101.000000   19.000000   \n",
       "75%    1.486050e+04   7989.000000    7.00000   187.250000   32.000000   \n",
       "max    1.107833e+06  51456.000000  372.00000  5172.000000  790.000000   \n",
       "\n",
       "             Var16  \n",
       "count   500.000000  \n",
       "mean    212.120000  \n",
       "std     380.233118  \n",
       "min       0.000000  \n",
       "25%      71.000000  \n",
       "50%     123.500000  \n",
       "75%     228.500000  \n",
       "max    6334.000000  "
      ]
     },
     "execution_count": 140,
     "metadata": {},
     "output_type": "execute_result"
    }
   ],
   "source": [
    "# Descrever os dados\n",
    "\n",
    "dados.describe()"
   ]
  },
  {
   "cell_type": "code",
   "execution_count": 162,
   "metadata": {},
   "outputs": [
    {
     "data": {
      "text/plain": [
       "<matplotlib.axes._subplots.AxesSubplot at 0x1fa8fbf2080>"
      ]
     },
     "execution_count": 162,
     "metadata": {},
     "output_type": "execute_result"
    },
    {
     "data": {
      "image/png": "[encoded data removed]",
      "text/plain": [
       "<Figure size 720x360 with 1 Axes>"
      ]
     },
     "metadata": {
      "needs_background": "light"
     },
     "output_type": "display_data"
    }
   ],
   "source": [
    "#Visualizar os dados no gráfico scatterplot\n",
    "\n",
    "ax = sb.scatterplot(x = dados['Var2'], y = dados['Var6'])\n",
    "ax.figure.set_size_inches(10,5)\n",
    "ax.set_title('Números total de usuários que receberam e visualizaram a postagem x Mês da postagem')\n",
    "ax"
   ]
  },
  {
   "cell_type": "code",
   "execution_count": 338,
   "metadata": {},
   "outputs": [
    {
     "data": {
      "text/html": [
       "<div>\n",
       "<style scoped>\n",
       "    .dataframe tbody tr th:only-of-type {\n",
       "        vertical-align: middle;\n",
       "    }\n",
       "\n",
       "    .dataframe tbody tr th {\n",
       "        vertical-align: top;\n",
       "    }\n",
       "\n",
       "    .dataframe thead th {\n",
       "        text-align: right;\n",
       "    }\n",
       "</style>\n",
       "<table border=\"1\" class=\"dataframe\">\n",
       "  <thead>\n",
       "    <tr style=\"text-align: right;\">\n",
       "      <th></th>\n",
       "      <th>Var1</th>\n",
       "      <th>Var2</th>\n",
       "      <th>Var3</th>\n",
       "      <th>Var4</th>\n",
       "      <th>Var5</th>\n",
       "      <th>Var6</th>\n",
       "      <th>Var7</th>\n",
       "      <th>Var8</th>\n",
       "      <th>Var9</th>\n",
       "      <th>Var10</th>\n",
       "      <th>Var11</th>\n",
       "      <th>Var12</th>\n",
       "      <th>Var13</th>\n",
       "      <th>Var14</th>\n",
       "      <th>Var15</th>\n",
       "      <th>Var16</th>\n",
       "    </tr>\n",
       "  </thead>\n",
       "  <tbody>\n",
       "    <tr>\n",
       "      <th>Var1</th>\n",
       "      <td>1.000000</td>\n",
       "      <td>0.128874</td>\n",
       "      <td>0.021023</td>\n",
       "      <td>-0.079275</td>\n",
       "      <td>0.026046</td>\n",
       "      <td>0.142747</td>\n",
       "      <td>0.055833</td>\n",
       "      <td>0.143905</td>\n",
       "      <td>0.178110</td>\n",
       "      <td>0.073661</td>\n",
       "      <td>0.022408</td>\n",
       "      <td>0.166521</td>\n",
       "      <td>-0.006453</td>\n",
       "      <td>-0.037200</td>\n",
       "      <td>0.006839</td>\n",
       "      <td>-0.030856</td>\n",
       "    </tr>\n",
       "    <tr>\n",
       "      <th>Var2</th>\n",
       "      <td>0.128874</td>\n",
       "      <td>1.000000</td>\n",
       "      <td>0.017050</td>\n",
       "      <td>-0.176390</td>\n",
       "      <td>-0.016592</td>\n",
       "      <td>-0.102506</td>\n",
       "      <td>-0.101616</td>\n",
       "      <td>-0.115898</td>\n",
       "      <td>-0.147083</td>\n",
       "      <td>-0.142829</td>\n",
       "      <td>-0.094624</td>\n",
       "      <td>-0.092012</td>\n",
       "      <td>0.006174</td>\n",
       "      <td>0.025184</td>\n",
       "      <td>-0.023075</td>\n",
       "      <td>0.018362</td>\n",
       "    </tr>\n",
       "    <tr>\n",
       "      <th>Var3</th>\n",
       "      <td>0.021023</td>\n",
       "      <td>0.017050</td>\n",
       "      <td>1.000000</td>\n",
       "      <td>0.045857</td>\n",
       "      <td>-0.001870</td>\n",
       "      <td>-0.050155</td>\n",
       "      <td>-0.033674</td>\n",
       "      <td>-0.048382</td>\n",
       "      <td>-0.029602</td>\n",
       "      <td>-0.021565</td>\n",
       "      <td>-0.046442</td>\n",
       "      <td>-0.068741</td>\n",
       "      <td>-0.077209</td>\n",
       "      <td>-0.082684</td>\n",
       "      <td>-0.050077</td>\n",
       "      <td>-0.081049</td>\n",
       "    </tr>\n",
       "    <tr>\n",
       "      <th>Var4</th>\n",
       "      <td>-0.079275</td>\n",
       "      <td>-0.176390</td>\n",
       "      <td>0.045857</td>\n",
       "      <td>1.000000</td>\n",
       "      <td>-0.068289</td>\n",
       "      <td>0.003338</td>\n",
       "      <td>0.012747</td>\n",
       "      <td>0.003879</td>\n",
       "      <td>0.012222</td>\n",
       "      <td>0.078759</td>\n",
       "      <td>0.038892</td>\n",
       "      <td>0.052412</td>\n",
       "      <td>0.000922</td>\n",
       "      <td>-0.024540</td>\n",
       "      <td>-0.058789</td>\n",
       "      <td>-0.027421</td>\n",
       "    </tr>\n",
       "    <tr>\n",
       "      <th>Var5</th>\n",
       "      <td>0.026046</td>\n",
       "      <td>-0.016592</td>\n",
       "      <td>-0.001870</td>\n",
       "      <td>-0.068289</td>\n",
       "      <td>1.000000</td>\n",
       "      <td>0.147080</td>\n",
       "      <td>0.062896</td>\n",
       "      <td>0.117403</td>\n",
       "      <td>0.098019</td>\n",
       "      <td>0.097831</td>\n",
       "      <td>0.003478</td>\n",
       "      <td>0.110675</td>\n",
       "      <td>0.076162</td>\n",
       "      <td>0.111226</td>\n",
       "      <td>0.077606</td>\n",
       "      <td>0.107996</td>\n",
       "    </tr>\n",
       "    <tr>\n",
       "      <th>Var6</th>\n",
       "      <td>0.142747</td>\n",
       "      <td>-0.102506</td>\n",
       "      <td>-0.050155</td>\n",
       "      <td>0.003338</td>\n",
       "      <td>0.147080</td>\n",
       "      <td>1.000000</td>\n",
       "      <td>0.694926</td>\n",
       "      <td>0.570629</td>\n",
       "      <td>0.477908</td>\n",
       "      <td>0.324362</td>\n",
       "      <td>0.322254</td>\n",
       "      <td>0.743053</td>\n",
       "      <td>0.427155</td>\n",
       "      <td>0.545250</td>\n",
       "      <td>0.456532</td>\n",
       "      <td>0.538597</td>\n",
       "    </tr>\n",
       "    <tr>\n",
       "      <th>Var7</th>\n",
       "      <td>0.055833</td>\n",
       "      <td>-0.101616</td>\n",
       "      <td>-0.033674</td>\n",
       "      <td>0.012747</td>\n",
       "      <td>0.062896</td>\n",
       "      <td>0.694926</td>\n",
       "      <td>1.000000</td>\n",
       "      <td>0.368553</td>\n",
       "      <td>0.315201</td>\n",
       "      <td>0.226081</td>\n",
       "      <td>0.850787</td>\n",
       "      <td>0.651933</td>\n",
       "      <td>0.316612</td>\n",
       "      <td>0.345198</td>\n",
       "      <td>0.287200</td>\n",
       "      <td>0.343358</td>\n",
       "    </tr>\n",
       "    <tr>\n",
       "      <th>Var8</th>\n",
       "      <td>0.143905</td>\n",
       "      <td>-0.115898</td>\n",
       "      <td>-0.048382</td>\n",
       "      <td>0.003879</td>\n",
       "      <td>0.117403</td>\n",
       "      <td>0.570629</td>\n",
       "      <td>0.368553</td>\n",
       "      <td>1.000000</td>\n",
       "      <td>0.968213</td>\n",
       "      <td>0.676840</td>\n",
       "      <td>0.260346</td>\n",
       "      <td>0.612080</td>\n",
       "      <td>0.505806</td>\n",
       "      <td>0.569501</td>\n",
       "      <td>0.531163</td>\n",
       "      <td>0.572159</td>\n",
       "    </tr>\n",
       "    <tr>\n",
       "      <th>Var9</th>\n",
       "      <td>0.178110</td>\n",
       "      <td>-0.147083</td>\n",
       "      <td>-0.029602</td>\n",
       "      <td>0.012222</td>\n",
       "      <td>0.098019</td>\n",
       "      <td>0.477908</td>\n",
       "      <td>0.315201</td>\n",
       "      <td>0.968213</td>\n",
       "      <td>1.000000</td>\n",
       "      <td>0.706666</td>\n",
       "      <td>0.222941</td>\n",
       "      <td>0.503847</td>\n",
       "      <td>0.334621</td>\n",
       "      <td>0.349283</td>\n",
       "      <td>0.343402</td>\n",
       "      <td>0.354502</td>\n",
       "    </tr>\n",
       "    <tr>\n",
       "      <th>Var10</th>\n",
       "      <td>0.073661</td>\n",
       "      <td>-0.142829</td>\n",
       "      <td>-0.021565</td>\n",
       "      <td>0.078759</td>\n",
       "      <td>0.097831</td>\n",
       "      <td>0.324362</td>\n",
       "      <td>0.226081</td>\n",
       "      <td>0.676840</td>\n",
       "      <td>0.706666</td>\n",
       "      <td>1.000000</td>\n",
       "      <td>0.164813</td>\n",
       "      <td>0.355389</td>\n",
       "      <td>0.261195</td>\n",
       "      <td>0.235836</td>\n",
       "      <td>0.201901</td>\n",
       "      <td>0.238082</td>\n",
       "    </tr>\n",
       "    <tr>\n",
       "      <th>Var11</th>\n",
       "      <td>0.022408</td>\n",
       "      <td>-0.094624</td>\n",
       "      <td>-0.046442</td>\n",
       "      <td>0.038892</td>\n",
       "      <td>0.003478</td>\n",
       "      <td>0.322254</td>\n",
       "      <td>0.850787</td>\n",
       "      <td>0.260346</td>\n",
       "      <td>0.222941</td>\n",
       "      <td>0.164813</td>\n",
       "      <td>1.000000</td>\n",
       "      <td>0.584225</td>\n",
       "      <td>0.242484</td>\n",
       "      <td>0.253218</td>\n",
       "      <td>0.189682</td>\n",
       "      <td>0.250083</td>\n",
       "    </tr>\n",
       "    <tr>\n",
       "      <th>Var12</th>\n",
       "      <td>0.166521</td>\n",
       "      <td>-0.092012</td>\n",
       "      <td>-0.068741</td>\n",
       "      <td>0.052412</td>\n",
       "      <td>0.110675</td>\n",
       "      <td>0.743053</td>\n",
       "      <td>0.651933</td>\n",
       "      <td>0.612080</td>\n",
       "      <td>0.503847</td>\n",
       "      <td>0.355389</td>\n",
       "      <td>0.584225</td>\n",
       "      <td>1.000000</td>\n",
       "      <td>0.472351</td>\n",
       "      <td>0.631504</td>\n",
       "      <td>0.486640</td>\n",
       "      <td>0.617929</td>\n",
       "    </tr>\n",
       "    <tr>\n",
       "      <th>Var13</th>\n",
       "      <td>-0.006453</td>\n",
       "      <td>0.006174</td>\n",
       "      <td>-0.077209</td>\n",
       "      <td>0.000922</td>\n",
       "      <td>0.076162</td>\n",
       "      <td>0.427155</td>\n",
       "      <td>0.316612</td>\n",
       "      <td>0.505806</td>\n",
       "      <td>0.334621</td>\n",
       "      <td>0.261195</td>\n",
       "      <td>0.242484</td>\n",
       "      <td>0.472351</td>\n",
       "      <td>1.000000</td>\n",
       "      <td>0.837887</td>\n",
       "      <td>0.868319</td>\n",
       "      <td>0.864944</td>\n",
       "    </tr>\n",
       "    <tr>\n",
       "      <th>Var14</th>\n",
       "      <td>-0.037200</td>\n",
       "      <td>0.025184</td>\n",
       "      <td>-0.082684</td>\n",
       "      <td>-0.024540</td>\n",
       "      <td>0.111226</td>\n",
       "      <td>0.545250</td>\n",
       "      <td>0.345198</td>\n",
       "      <td>0.569501</td>\n",
       "      <td>0.349283</td>\n",
       "      <td>0.235836</td>\n",
       "      <td>0.253218</td>\n",
       "      <td>0.631504</td>\n",
       "      <td>0.837887</td>\n",
       "      <td>1.000000</td>\n",
       "      <td>0.903796</td>\n",
       "      <td>0.997603</td>\n",
       "    </tr>\n",
       "    <tr>\n",
       "      <th>Var15</th>\n",
       "      <td>0.006839</td>\n",
       "      <td>-0.023075</td>\n",
       "      <td>-0.050077</td>\n",
       "      <td>-0.058789</td>\n",
       "      <td>0.077606</td>\n",
       "      <td>0.456532</td>\n",
       "      <td>0.287200</td>\n",
       "      <td>0.531163</td>\n",
       "      <td>0.343402</td>\n",
       "      <td>0.201901</td>\n",
       "      <td>0.189682</td>\n",
       "      <td>0.486640</td>\n",
       "      <td>0.868319</td>\n",
       "      <td>0.903796</td>\n",
       "      <td>1.000000</td>\n",
       "      <td>0.928164</td>\n",
       "    </tr>\n",
       "    <tr>\n",
       "      <th>Var16</th>\n",
       "      <td>-0.030856</td>\n",
       "      <td>0.018362</td>\n",
       "      <td>-0.081049</td>\n",
       "      <td>-0.027421</td>\n",
       "      <td>0.107996</td>\n",
       "      <td>0.538597</td>\n",
       "      <td>0.343358</td>\n",
       "      <td>0.572159</td>\n",
       "      <td>0.354502</td>\n",
       "      <td>0.238082</td>\n",
       "      <td>0.250083</td>\n",
       "      <td>0.617929</td>\n",
       "      <td>0.864944</td>\n",
       "      <td>0.997603</td>\n",
       "      <td>0.928164</td>\n",
       "      <td>1.000000</td>\n",
       "    </tr>\n",
       "  </tbody>\n",
       "</table>\n",
       "</div>"
      ],
      "text/plain": [
       "           Var1      Var2      Var3      Var4      Var5      Var6      Var7  \\\n",
       "Var1   1.000000  0.128874  0.021023 -0.079275  0.026046  0.142747  0.055833   \n",
       "Var2   0.128874  1.000000  0.017050 -0.176390 -0.016592 -0.102506 -0.101616   \n",
       "Var3   0.021023  0.017050  1.000000  0.045857 -0.001870 -0.050155 -0.033674   \n",
       "Var4  -0.079275 -0.176390  0.045857  1.000000 -0.068289  0.003338  0.012747   \n",
       "Var5   0.026046 -0.016592 -0.001870 -0.068289  1.000000  0.147080  0.062896   \n",
       "Var6   0.142747 -0.102506 -0.050155  0.003338  0.147080  1.000000  0.694926   \n",
       "Var7   0.055833 -0.101616 -0.033674  0.012747  0.062896  0.694926  1.000000   \n",
       "Var8   0.143905 -0.115898 -0.048382  0.003879  0.117403  0.570629  0.368553   \n",
       "Var9   0.178110 -0.147083 -0.029602  0.012222  0.098019  0.477908  0.315201   \n",
       "Var10  0.073661 -0.142829 -0.021565  0.078759  0.097831  0.324362  0.226081   \n",
       "Var11  0.022408 -0.094624 -0.046442  0.038892  0.003478  0.322254  0.850787   \n",
       "Var12  0.166521 -0.092012 -0.068741  0.052412  0.110675  0.743053  0.651933   \n",
       "Var13 -0.006453  0.006174 -0.077209  0.000922  0.076162  0.427155  0.316612   \n",
       "Var14 -0.037200  0.025184 -0.082684 -0.024540  0.111226  0.545250  0.345198   \n",
       "Var15  0.006839 -0.023075 -0.050077 -0.058789  0.077606  0.456532  0.287200   \n",
       "Var16 -0.030856  0.018362 -0.081049 -0.027421  0.107996  0.538597  0.343358   \n",
       "\n",
       "           Var8      Var9     Var10     Var11     Var12     Var13     Var14  \\\n",
       "Var1   0.143905  0.178110  0.073661  0.022408  0.166521 -0.006453 -0.037200   \n",
       "Var2  -0.115898 -0.147083 -0.142829 -0.094624 -0.092012  0.006174  0.025184   \n",
       "Var3  -0.048382 -0.029602 -0.021565 -0.046442 -0.068741 -0.077209 -0.082684   \n",
       "Var4   0.003879  0.012222  0.078759  0.038892  0.052412  0.000922 -0.024540   \n",
       "Var5   0.117403  0.098019  0.097831  0.003478  0.110675  0.076162  0.111226   \n",
       "Var6   0.570629  0.477908  0.324362  0.322254  0.743053  0.427155  0.545250   \n",
       "Var7   0.368553  0.315201  0.226081  0.850787  0.651933  0.316612  0.345198   \n",
       "Var8   1.000000  0.968213  0.676840  0.260346  0.612080  0.505806  0.569501   \n",
       "Var9   0.968213  1.000000  0.706666  0.222941  0.503847  0.334621  0.349283   \n",
       "Var10  0.676840  0.706666  1.000000  0.164813  0.355389  0.261195  0.235836   \n",
       "Var11  0.260346  0.222941  0.164813  1.000000  0.584225  0.242484  0.253218   \n",
       "Var12  0.612080  0.503847  0.355389  0.584225  1.000000  0.472351  0.631504   \n",
       "Var13  0.505806  0.334621  0.261195  0.242484  0.472351  1.000000  0.837887   \n",
       "Var14  0.569501  0.349283  0.235836  0.253218  0.631504  0.837887  1.000000   \n",
       "Var15  0.531163  0.343402  0.201901  0.189682  0.486640  0.868319  0.903796   \n",
       "Var16  0.572159  0.354502  0.238082  0.250083  0.617929  0.864944  0.997603   \n",
       "\n",
       "          Var15     Var16  \n",
       "Var1   0.006839 -0.030856  \n",
       "Var2  -0.023075  0.018362  \n",
       "Var3  -0.050077 -0.081049  \n",
       "Var4  -0.058789 -0.027421  \n",
       "Var5   0.077606  0.107996  \n",
       "Var6   0.456532  0.538597  \n",
       "Var7   0.287200  0.343358  \n",
       "Var8   0.531163  0.572159  \n",
       "Var9   0.343402  0.354502  \n",
       "Var10  0.201901  0.238082  \n",
       "Var11  0.189682  0.250083  \n",
       "Var12  0.486640  0.617929  \n",
       "Var13  0.868319  0.864944  \n",
       "Var14  0.903796  0.997603  \n",
       "Var15  1.000000  0.928164  \n",
       "Var16  0.928164  1.000000  "
      ]
     },
     "execution_count": 338,
     "metadata": {},
     "output_type": "execute_result"
    }
   ],
   "source": [
    "#Verificar as correlações dos dados\n",
    "\n",
    "dados.corr()"
   ]
  },
  {
   "cell_type": "code",
   "execution_count": 339,
   "metadata": {},
   "outputs": [
    {
     "name": "stderr",
     "output_type": "stream",
     "text": [
      "C:\\Users\\PC\\Anaconda3\\lib\\site-packages\\numpy\\core\\fromnumeric.py:2389: FutureWarning: Method .ptp is deprecated and will be removed in a future version. Use numpy.ptp instead.\n",
      "  return ptp(axis=axis, out=out, **kwargs)\n"
     ]
    }
   ],
   "source": [
    "# Adicionando uma constante a matriz X\n",
    "\n",
    "Y = dados['Var6']\n",
    "X = sm.add_constant(dados['Var2'])"
   ]
  },
  {
   "cell_type": "code",
   "execution_count": 168,
   "metadata": {},
   "outputs": [
    {
     "data": {
      "text/plain": [
       "0     2752\n",
       "1    10460\n",
       "2     2413\n",
       "3    50128\n",
       "4     7244\n",
       "Name: Var6, dtype: int64"
      ]
     },
     "execution_count": 168,
     "metadata": {},
     "output_type": "execute_result"
    }
   ],
   "source": [
    "# Visualizar o Y\n",
    "\n",
    "Y.head()"
   ]
  },
  {
   "cell_type": "code",
   "execution_count": 169,
   "metadata": {},
   "outputs": [
    {
     "data": {
      "text/html": [
       "<div>\n",
       "<style scoped>\n",
       "    .dataframe tbody tr th:only-of-type {\n",
       "        vertical-align: middle;\n",
       "    }\n",
       "\n",
       "    .dataframe tbody tr th {\n",
       "        vertical-align: top;\n",
       "    }\n",
       "\n",
       "    .dataframe thead th {\n",
       "        text-align: right;\n",
       "    }\n",
       "</style>\n",
       "<table border=\"1\" class=\"dataframe\">\n",
       "  <thead>\n",
       "    <tr style=\"text-align: right;\">\n",
       "      <th></th>\n",
       "      <th>const</th>\n",
       "      <th>Var2</th>\n",
       "    </tr>\n",
       "  </thead>\n",
       "  <tbody>\n",
       "    <tr>\n",
       "      <th>0</th>\n",
       "      <td>1.0</td>\n",
       "      <td>12</td>\n",
       "    </tr>\n",
       "    <tr>\n",
       "      <th>1</th>\n",
       "      <td>1.0</td>\n",
       "      <td>12</td>\n",
       "    </tr>\n",
       "    <tr>\n",
       "      <th>2</th>\n",
       "      <td>1.0</td>\n",
       "      <td>12</td>\n",
       "    </tr>\n",
       "    <tr>\n",
       "      <th>3</th>\n",
       "      <td>1.0</td>\n",
       "      <td>12</td>\n",
       "    </tr>\n",
       "    <tr>\n",
       "      <th>4</th>\n",
       "      <td>1.0</td>\n",
       "      <td>12</td>\n",
       "    </tr>\n",
       "  </tbody>\n",
       "</table>\n",
       "</div>"
      ],
      "text/plain": [
       "   const  Var2\n",
       "0    1.0    12\n",
       "1    1.0    12\n",
       "2    1.0    12\n",
       "3    1.0    12\n",
       "4    1.0    12"
      ]
     },
     "execution_count": 169,
     "metadata": {},
     "output_type": "execute_result"
    }
   ],
   "source": [
    "# Visualizar o X\n",
    "\n",
    "X.head()"
   ]
  },
  {
   "cell_type": "code",
   "execution_count": 146,
   "metadata": {},
   "outputs": [
    {
     "name": "stdout",
     "output_type": "stream",
     "text": [
      "                            OLS Regression Results                            \n",
      "==============================================================================\n",
      "Dep. Variable:                   Var6   R-squared:                       0.011\n",
      "Model:                            OLS   Adj. R-squared:                  0.009\n",
      "Method:                 Least Squares   F-statistic:                     5.288\n",
      "Date:                Sun, 10 Nov 2019   Prob (F-statistic):             0.0219\n",
      "Time:                        09:44:32   Log-Likelihood:                -5722.3\n",
      "No. Observations:                 500   AIC:                         1.145e+04\n",
      "Df Residuals:                     498   BIC:                         1.146e+04\n",
      "Df Model:                           1                                         \n",
      "Covariance Type:            nonrobust                                         \n",
      "==============================================================================\n",
      "                 coef    std err          t      P>|t|      [0.025      0.975]\n",
      "------------------------------------------------------------------------------\n",
      "const       1.886e+04   2382.607      7.917      0.000    1.42e+04    2.35e+04\n",
      "Var2        -704.6925    306.436     -2.300      0.022   -1306.759    -102.625\n",
      "==============================================================================\n",
      "Omnibus:                      407.730   Durbin-Watson:                   1.734\n",
      "Prob(Omnibus):                  0.000   Jarque-Bera (JB):             6491.693\n",
      "Skew:                           3.598   Prob(JB):                         0.00\n",
      "Kurtosis:                      19.119   Cond. No.                         18.5\n",
      "==============================================================================\n",
      "\n",
      "Warnings:\n",
      "[1] Standard Errors assume that the covariance matrix of the errors is correctly specified.\n"
     ]
    }
   ],
   "source": [
    "#Estimar um modelo de regressão e visualizar seu resultado\n",
    "\n",
    "resultado_regressao = sm.OLS(Y, X).fit()\n",
    "print(resultado_regressao.summary())"
   ]
  },
  {
   "cell_type": "code",
   "execution_count": 33,
   "metadata": {},
   "outputs": [
    {
     "data": {
      "text/plain": [
       "<matplotlib.axes._subplots.AxesSubplot at 0x24f88fb06a0>"
      ]
     },
     "execution_count": 33,
     "metadata": {},
     "output_type": "execute_result"
    },
    {
     "data": {
      "image/png": "[encoded data removed]",
      "text/plain": [
       "<Figure size 432x288 with 2 Axes>"
      ]
     },
     "metadata": {
      "needs_background": "light"
     },
     "output_type": "display_data"
    }
   ],
   "source": [
    "# Coeficiente de correlação de Pearson (Mapa de calor)\n",
    "\n",
    "correlation_matrix = dados.corr().round(2)\n",
    "sb.heatmap(data=correlation_matrix)"
   ]
  },
  {
   "cell_type": "code",
   "execution_count": 174,
   "metadata": {},
   "outputs": [
    {
     "data": {
      "text/plain": [
       "<matplotlib.axes._subplots.AxesSubplot at 0x1fa8fcf9240>"
      ]
     },
     "execution_count": 174,
     "metadata": {},
     "output_type": "execute_result"
    },
    {
     "data": {
      "image/png": "[encoded data removed]",
      "text/plain": [
       "<Figure size 720x360 with 1 Axes>"
      ]
     },
     "metadata": {
      "needs_background": "light"
     },
     "output_type": "display_data"
    }
   ],
   "source": [
    "#Visualizar os dados no gráfico scatterplot\n",
    "\n",
    "ax = sb.scatterplot(x = dados['Var5'], y = dados['Var7'])\n",
    "ax.figure.set_size_inches(10,5)\n",
    "ax.set_title('Número total de usuários que receberam a postagem, sejam ela via propaganda, story patrocinado ou diretamente na timeline do usuário que a postou x Anúncio Pago ou Não')\n",
    "ax"
   ]
  },
  {
   "cell_type": "code",
   "execution_count": 177,
   "metadata": {},
   "outputs": [],
   "source": [
    "# Adicionando uma constante a matriz X\n",
    "\n",
    "Y = dados['Var7']\n",
    "X = sm.add_constant(dados['Var5'])"
   ]
  },
  {
   "cell_type": "code",
   "execution_count": 182,
   "metadata": {},
   "outputs": [
    {
     "data": {
      "text/plain": [
       "0     5091\n",
       "1    19057\n",
       "2     4373\n",
       "3    87991\n",
       "4    13594\n",
       "Name: Var7, dtype: int64"
      ]
     },
     "execution_count": 182,
     "metadata": {},
     "output_type": "execute_result"
    }
   ],
   "source": [
    "# Visualizando o Y\n",
    "\n",
    "Y.head()"
   ]
  },
  {
   "cell_type": "code",
   "execution_count": 183,
   "metadata": {},
   "outputs": [
    {
     "data": {
      "text/html": [
       "<div>\n",
       "<style scoped>\n",
       "    .dataframe tbody tr th:only-of-type {\n",
       "        vertical-align: middle;\n",
       "    }\n",
       "\n",
       "    .dataframe tbody tr th {\n",
       "        vertical-align: top;\n",
       "    }\n",
       "\n",
       "    .dataframe thead th {\n",
       "        text-align: right;\n",
       "    }\n",
       "</style>\n",
       "<table border=\"1\" class=\"dataframe\">\n",
       "  <thead>\n",
       "    <tr style=\"text-align: right;\">\n",
       "      <th></th>\n",
       "      <th>const</th>\n",
       "      <th>Var5</th>\n",
       "    </tr>\n",
       "  </thead>\n",
       "  <tbody>\n",
       "    <tr>\n",
       "      <th>0</th>\n",
       "      <td>1.0</td>\n",
       "      <td>0.0</td>\n",
       "    </tr>\n",
       "    <tr>\n",
       "      <th>1</th>\n",
       "      <td>1.0</td>\n",
       "      <td>0.0</td>\n",
       "    </tr>\n",
       "    <tr>\n",
       "      <th>2</th>\n",
       "      <td>1.0</td>\n",
       "      <td>0.0</td>\n",
       "    </tr>\n",
       "    <tr>\n",
       "      <th>3</th>\n",
       "      <td>1.0</td>\n",
       "      <td>1.0</td>\n",
       "    </tr>\n",
       "    <tr>\n",
       "      <th>4</th>\n",
       "      <td>1.0</td>\n",
       "      <td>0.0</td>\n",
       "    </tr>\n",
       "  </tbody>\n",
       "</table>\n",
       "</div>"
      ],
      "text/plain": [
       "   const  Var5\n",
       "0    1.0   0.0\n",
       "1    1.0   0.0\n",
       "2    1.0   0.0\n",
       "3    1.0   1.0\n",
       "4    1.0   0.0"
      ]
     },
     "execution_count": 183,
     "metadata": {},
     "output_type": "execute_result"
    }
   ],
   "source": [
    "# Visualizando o X\n",
    "\n",
    "X.head()"
   ]
  },
  {
   "cell_type": "code",
   "execution_count": 185,
   "metadata": {},
   "outputs": [
    {
     "name": "stdout",
     "output_type": "stream",
     "text": [
      "                            OLS Regression Results                            \n",
      "==============================================================================\n",
      "Dep. Variable:                   Var7   R-squared:                       0.004\n",
      "Model:                            OLS   Adj. R-squared:                  0.002\n",
      "Method:                 Least Squares   F-statistic:                     1.978\n",
      "Date:                Sat, 09 Nov 2019   Prob (F-statistic):              0.160\n",
      "Time:                        21:04:54   Log-Likelihood:                -6332.5\n",
      "No. Observations:                 500   AIC:                         1.267e+04\n",
      "Df Residuals:                     498   BIC:                         1.268e+04\n",
      "Df Model:                           1                                         \n",
      "Covariance Type:            nonrobust                                         \n",
      "==============================================================================\n",
      "                 coef    std err          t      P>|t|      [0.025      0.975]\n",
      "------------------------------------------------------------------------------\n",
      "const       2.659e+04   4038.321      6.585      0.000    1.87e+04    3.45e+04\n",
      "Var5        1.077e+04   7659.113      1.406      0.160   -4276.697    2.58e+04\n",
      "==============================================================================\n",
      "Omnibus:                      762.312   Durbin-Watson:                   1.926\n",
      "Prob(Omnibus):                  0.000   Jarque-Bera (JB):           192950.066\n",
      "Skew:                           8.414   Prob(JB):                         0.00\n",
      "Kurtosis:                      97.755   Cond. No.                         2.44\n",
      "==============================================================================\n",
      "\n",
      "Warnings:\n",
      "[1] Standard Errors assume that the covariance matrix of the errors is correctly specified.\n"
     ]
    }
   ],
   "source": [
    "#Estimar um modelo de regressão e visualizar seu resultado\n",
    "\n",
    "resultado_regressao = sm.OLS(Y, X).fit()\n",
    "print(resultado_regressao.summary())"
   ]
  },
  {
   "cell_type": "code",
   "execution_count": 187,
   "metadata": {},
   "outputs": [
    {
     "data": {
      "text/plain": [
       "<matplotlib.axes._subplots.AxesSubplot at 0x1fa8e87bf60>"
      ]
     },
     "execution_count": 187,
     "metadata": {},
     "output_type": "execute_result"
    },
    {
     "data": {
      "image/png": "[encoded data removed]",
      "text/plain": [
       "<Figure size 432x288 with 2 Axes>"
      ]
     },
     "metadata": {
      "needs_background": "light"
     },
     "output_type": "display_data"
    }
   ],
   "source": [
    "# Coeficiente de correlação de Pearson (Mapa de calor)\n",
    "\n",
    "correlation_matrix = dados.corr().round(2)\n",
    "sb.heatmap(data=correlation_matrix)"
   ]
  },
  {
   "cell_type": "markdown",
   "metadata": {},
   "source": [
    "# 2. A partir do estudo realizado na questão anterior, gere um modelo de regressão linear para cada variável alvo a seguir:"
   ]
  },
  {
   "cell_type": "markdown",
   "metadata": {},
   "source": [
    "# Para cada modelo gerado, aponte quais as variáveis independentes utilizadas e o motivo que o(a) levou escolhe-las. Aponte também qual a equação de regressão gerada e verifique a acurácia do modelo criado realizando previsões para a amostra."
   ]
  },
  {
   "cell_type": "markdown",
   "metadata": {},
   "source": [
    "# 3. Realize uma análise detalhada das variáveis escolhidas para cada modelo e aponte possíveis ajustes que podem ser realizados em cada um deles. Caso ache pertinente, gere um novo modelo."
   ]
  },
  {
   "cell_type": "markdown",
   "metadata": {},
   "source": [
    "# A) Número total de comentários;"
   ]
  },
  {
   "cell_type": "markdown",
   "metadata": {},
   "source": [
    "# Variáveis independentes - (Var1, Var6, Var7 e Var8)\n",
    "# Variável dependente - (Var13)\n",
    "\n",
    "# EQUAÇÃO DE REGRESSÃO MÚLTIPLA\n",
    "\n",
    "$Y_i = \\beta_0 + \\beta_1X_1$ + $\\beta_2X_2$ + ... + $\\beta_iX_i$,"
   ]
  },
  {
   "cell_type": "code",
   "execution_count": null,
   "metadata": {},
   "outputs": [],
   "source": [
    "# Foi escolhido essas variáveis independentes pois as mesmas tem ligações diretas com a variável dependente, e dessa forma há alteração no resultado final."
   ]
  },
  {
   "cell_type": "code",
   "execution_count": 340,
   "metadata": {},
   "outputs": [],
   "source": [
    "# Importando a biblioteca de regressão linear\n",
    "\n",
    "from sklearn import linear_model"
   ]
  },
  {
   "cell_type": "code",
   "execution_count": 346,
   "metadata": {},
   "outputs": [],
   "source": [
    "# Adicionando uma constante a matriz X_preditores\n",
    "\n",
    "X_preditores = dados[['Var1','Var6', 'Var7', 'Var8']]\n",
    "X_preditores = sm.add_constant(X_preditores)\n",
    "Y_alvo = dados['Var13']"
   ]
  },
  {
   "cell_type": "code",
   "execution_count": 347,
   "metadata": {},
   "outputs": [
    {
     "data": {
      "text/plain": [
       "0     4\n",
       "1     5\n",
       "2     0\n",
       "3    58\n",
       "4    19\n",
       "Name: Var13, dtype: int64"
      ]
     },
     "execution_count": 347,
     "metadata": {},
     "output_type": "execute_result"
    }
   ],
   "source": [
    "# Visualizando o Y_alvo\n",
    "\n",
    "Y_alvo.head()"
   ]
  },
  {
   "cell_type": "code",
   "execution_count": 209,
   "metadata": {},
   "outputs": [
    {
     "data": {
      "text/html": [
       "<div>\n",
       "<style scoped>\n",
       "    .dataframe tbody tr th:only-of-type {\n",
       "        vertical-align: middle;\n",
       "    }\n",
       "\n",
       "    .dataframe tbody tr th {\n",
       "        vertical-align: top;\n",
       "    }\n",
       "\n",
       "    .dataframe thead th {\n",
       "        text-align: right;\n",
       "    }\n",
       "</style>\n",
       "<table border=\"1\" class=\"dataframe\">\n",
       "  <thead>\n",
       "    <tr style=\"text-align: right;\">\n",
       "      <th></th>\n",
       "      <th>const</th>\n",
       "      <th>Var1</th>\n",
       "      <th>Var6</th>\n",
       "      <th>Var7</th>\n",
       "      <th>Var8</th>\n",
       "    </tr>\n",
       "  </thead>\n",
       "  <tbody>\n",
       "    <tr>\n",
       "      <th>0</th>\n",
       "      <td>1.0</td>\n",
       "      <td>1</td>\n",
       "      <td>2752</td>\n",
       "      <td>5091</td>\n",
       "      <td>178</td>\n",
       "    </tr>\n",
       "    <tr>\n",
       "      <th>1</th>\n",
       "      <td>1.0</td>\n",
       "      <td>2</td>\n",
       "      <td>10460</td>\n",
       "      <td>19057</td>\n",
       "      <td>1457</td>\n",
       "    </tr>\n",
       "    <tr>\n",
       "      <th>2</th>\n",
       "      <td>1.0</td>\n",
       "      <td>1</td>\n",
       "      <td>2413</td>\n",
       "      <td>4373</td>\n",
       "      <td>177</td>\n",
       "    </tr>\n",
       "    <tr>\n",
       "      <th>3</th>\n",
       "      <td>1.0</td>\n",
       "      <td>1</td>\n",
       "      <td>50128</td>\n",
       "      <td>87991</td>\n",
       "      <td>2211</td>\n",
       "    </tr>\n",
       "    <tr>\n",
       "      <th>4</th>\n",
       "      <td>1.0</td>\n",
       "      <td>1</td>\n",
       "      <td>7244</td>\n",
       "      <td>13594</td>\n",
       "      <td>671</td>\n",
       "    </tr>\n",
       "  </tbody>\n",
       "</table>\n",
       "</div>"
      ],
      "text/plain": [
       "   const  Var1   Var6   Var7  Var8\n",
       "0    1.0     1   2752   5091   178\n",
       "1    1.0     2  10460  19057  1457\n",
       "2    1.0     1   2413   4373   177\n",
       "3    1.0     1  50128  87991  2211\n",
       "4    1.0     1   7244  13594   671"
      ]
     },
     "execution_count": 209,
     "metadata": {},
     "output_type": "execute_result"
    }
   ],
   "source": [
    "# Visualizando o X_preditores\n",
    "\n",
    "X_preditores.head()"
   ]
  },
  {
   "cell_type": "code",
   "execution_count": 348,
   "metadata": {},
   "outputs": [
    {
     "data": {
      "text/plain": [
       "-0.006453133087929064"
      ]
     },
     "execution_count": 348,
     "metadata": {},
     "output_type": "execute_result"
    }
   ],
   "source": [
    "# Verificar a correlação entre as variáveis\n",
    "\n",
    "dados['Var13'].corr(dados['Var1'])"
   ]
  },
  {
   "cell_type": "code",
   "execution_count": 349,
   "metadata": {},
   "outputs": [
    {
     "data": {
      "text/plain": [
       "0.4271545248635362"
      ]
     },
     "execution_count": 349,
     "metadata": {},
     "output_type": "execute_result"
    }
   ],
   "source": [
    "dados['Var13'].corr(dados['Var6'])"
   ]
  },
  {
   "cell_type": "code",
   "execution_count": 350,
   "metadata": {},
   "outputs": [
    {
     "data": {
      "text/plain": [
       "0.31661202119349335"
      ]
     },
     "execution_count": 350,
     "metadata": {},
     "output_type": "execute_result"
    }
   ],
   "source": [
    "dados['Var13'].corr(dados['Var7'])"
   ]
  },
  {
   "cell_type": "code",
   "execution_count": 351,
   "metadata": {},
   "outputs": [
    {
     "data": {
      "text/plain": [
       "0.5058061926045394"
      ]
     },
     "execution_count": 351,
     "metadata": {},
     "output_type": "execute_result"
    }
   ],
   "source": [
    "dados['Var13'].corr(dados['Var8'])"
   ]
  },
  {
   "cell_type": "code",
   "execution_count": 352,
   "metadata": {},
   "outputs": [
    {
     "name": "stdout",
     "output_type": "stream",
     "text": [
      "                            OLS Regression Results                            \n",
      "==============================================================================\n",
      "Dep. Variable:                  Var13   R-squared:                       0.294\n",
      "Model:                            OLS   Adj. R-squared:                  0.289\n",
      "Method:                 Least Squares   F-statistic:                     51.61\n",
      "Date:                Sun, 10 Nov 2019   Prob (F-statistic):           2.50e-36\n",
      "Time:                        21:18:16   Log-Likelihood:                -2148.4\n",
      "No. Observations:                 500   AIC:                             4307.\n",
      "Df Residuals:                     495   BIC:                             4328.\n",
      "Df Model:                           4                                         \n",
      "Covariance Type:            nonrobust                                         \n",
      "==============================================================================\n",
      "                 coef    std err          t      P>|t|      [0.025      0.975]\n",
      "------------------------------------------------------------------------------\n",
      "const          0.9235      1.917      0.482      0.630      -2.842       4.689\n",
      "Var1          -3.3201      1.383     -2.400      0.017      -6.038      -0.602\n",
      "Var6           0.0002   5.57e-05      2.948      0.003    5.47e-05       0.000\n",
      "Var7        1.438e-05   1.45e-05      0.990      0.323   -1.42e-05    4.29e-05\n",
      "Var8           0.0086      0.001      8.650      0.000       0.007       0.011\n",
      "==============================================================================\n",
      "Omnibus:                      739.004   Durbin-Watson:                   1.994\n",
      "Prob(Omnibus):                  0.000   Jarque-Bera (JB):           273491.114\n",
      "Skew:                           7.692   Prob(JB):                         0.00\n",
      "Kurtosis:                     116.538   Cond. No.                     2.40e+05\n",
      "==============================================================================\n",
      "\n",
      "Warnings:\n",
      "[1] Standard Errors assume that the covariance matrix of the errors is correctly specified.\n",
      "[2] The condition number is large, 2.4e+05. This might indicate that there are\n",
      "strong multicollinearity or other numerical problems.\n"
     ]
    }
   ],
   "source": [
    "# Estimar um modelo de regressão e visualizar seu resultado\n",
    "# O R quanto mais próximo de 100 melhor\n",
    "\n",
    "resultado_regressao = sm.OLS(Y_alvo, X_preditores).fit()\n",
    "print(resultado_regressao.summary())"
   ]
  },
  {
   "cell_type": "code",
   "execution_count": 353,
   "metadata": {},
   "outputs": [],
   "source": [
    "# Divisão entre base de dados de treinamento e base de dados de teste\n",
    "\n",
    "from sklearn.model_selection import train_test_split\n",
    "X_train,X_test,y_train,y_test = train_test_split(X_preditores,Y_alvo,test_size=0.30,random_state=0)"
   ]
  },
  {
   "cell_type": "code",
   "execution_count": 354,
   "metadata": {},
   "outputs": [
    {
     "data": {
      "text/plain": [
       "LinearRegression(copy_X=True, fit_intercept=True, n_jobs=None, normalize=False)"
      ]
     },
     "execution_count": 354,
     "metadata": {},
     "output_type": "execute_result"
    }
   ],
   "source": [
    "# Treinando e testando o modelo\n",
    "\n",
    "from sklearn.linear_model import LinearRegression\n",
    "model = LinearRegression()\n",
    "model.fit(X_train, y_train)"
   ]
  },
  {
   "cell_type": "code",
   "execution_count": 355,
   "metadata": {},
   "outputs": [
    {
     "data": {
      "text/plain": [
       "0.3098638487355894"
      ]
     },
     "execution_count": 355,
     "metadata": {},
     "output_type": "execute_result"
    }
   ],
   "source": [
    "# Mostrar o scores para a base de treinamento\n",
    "\n",
    "model.score(X_train, y_train)"
   ]
  },
  {
   "cell_type": "code",
   "execution_count": 356,
   "metadata": {},
   "outputs": [
    {
     "data": {
      "text/plain": [
       "array([ 0.00000000e+00, -4.24367213e+00,  2.10957240e-04,  1.35107439e-05,\n",
       "        9.33072554e-03])"
      ]
     },
     "execution_count": 356,
     "metadata": {},
     "output_type": "execute_result"
    }
   ],
   "source": [
    "# Coeficiente\n",
    "\n",
    "model.coef_"
   ]
  },
  {
   "cell_type": "code",
   "execution_count": 282,
   "metadata": {},
   "outputs": [],
   "source": [
    "# Previsões com modelo\n",
    "\n",
    "previsoes = model.predict(X_train)"
   ]
  },
  {
   "cell_type": "code",
   "execution_count": 357,
   "metadata": {},
   "outputs": [
    {
     "data": {
      "text/plain": [
       "8.417815689452178"
      ]
     },
     "execution_count": 357,
     "metadata": {},
     "output_type": "execute_result"
    }
   ],
   "source": [
    "resultado = abs(y_train - previsoes)\n",
    "resultado.mean()"
   ]
  },
  {
   "cell_type": "code",
   "execution_count": 358,
   "metadata": {},
   "outputs": [
    {
     "name": "stdout",
     "output_type": "stream",
     "text": [
      "8.41781568945218\n",
      "421.10395849122733\n"
     ]
    }
   ],
   "source": [
    "# Importar o erro da média absoluta e a média do erro quadrado\n",
    "\n",
    "from sklearn.metrics import mean_absolute_error, mean_squared_error\n",
    "mae = mean_absolute_error(y_train, previsoes)\n",
    "mse = mean_squared_error(y_train, previsoes)\n",
    "print(mae)\n",
    "print(mse)"
   ]
  },
  {
   "cell_type": "code",
   "execution_count": 359,
   "metadata": {},
   "outputs": [
    {
     "data": {
      "text/plain": [
       "-0.3262842068189964"
      ]
     },
     "execution_count": 359,
     "metadata": {},
     "output_type": "execute_result"
    }
   ],
   "source": [
    "# Mostrar o score para a base de teste\n",
    "\n",
    "model.score(X_test, y_test)"
   ]
  },
  {
   "cell_type": "code",
   "execution_count": 360,
   "metadata": {},
   "outputs": [],
   "source": [
    "# Pontuando o Modelo\n",
    "\n",
    "from sklearn.metrics import r2_score, mean_squared_error"
   ]
  },
  {
   "cell_type": "code",
   "execution_count": 286,
   "metadata": {},
   "outputs": [],
   "source": [
    "# Predizendo a base de teste para nosso Conjunto de Validação\n",
    "\n",
    "y_pred = model.predict(X_test)"
   ]
  },
  {
   "cell_type": "code",
   "execution_count": 287,
   "metadata": {},
   "outputs": [
    {
     "name": "stdout",
     "output_type": "stream",
     "text": [
      "R2 score: -0.3262842068189964\n"
     ]
    }
   ],
   "source": [
    "# Valor de R2 perto de 1 nos diz que é um bom modelo\n",
    "\n",
    "print(f\"R2 score: {r2_score(y_test, y_pred)}\")"
   ]
  },
  {
   "cell_type": "code",
   "execution_count": 288,
   "metadata": {},
   "outputs": [
    {
     "name": "stdout",
     "output_type": "stream",
     "text": [
      "MSE score: 79.94463944530527\n"
     ]
    }
   ],
   "source": [
    "# MSE Score perto de 0 é um bom modelo\n",
    "\n",
    "print(f\"MSE score: {mean_squared_error(y_test, y_pred)}\")"
   ]
  },
  {
   "cell_type": "markdown",
   "metadata": {},
   "source": [
    "# B) Número total de likes;"
   ]
  },
  {
   "cell_type": "markdown",
   "metadata": {},
   "source": [
    "# Variáveis independentes - (Var8, Var11, Var12)\n",
    "# Variável dependente - (Var14)\n",
    "\n",
    "# EQUAÇÃO DE REGRESSÃO MÚLTIPLA\n",
    "\n",
    "$Y_i = \\beta_0 + \\beta_1X_1$ + $\\beta_2X_2$ + ... + $\\beta_iX_i$,"
   ]
  },
  {
   "cell_type": "code",
   "execution_count": null,
   "metadata": {},
   "outputs": [],
   "source": [
    "# Foi escolhido essas variáveis independentes pois as mesmas tem ligações diretas com a variável dependente, e dessa forma há alteração no resultado final."
   ]
  },
  {
   "cell_type": "code",
   "execution_count": 256,
   "metadata": {},
   "outputs": [
    {
     "name": "stderr",
     "output_type": "stream",
     "text": [
      "C:\\Users\\PC\\Anaconda3\\lib\\site-packages\\numpy\\core\\fromnumeric.py:2389: FutureWarning: Method .ptp is deprecated and will be removed in a future version. Use numpy.ptp instead.\n",
      "  return ptp(axis=axis, out=out, **kwargs)\n"
     ]
    }
   ],
   "source": [
    "# Adicionando uma constante a matriz X_preditores\n",
    "\n",
    "X_preditores = dados[['Var8', 'Var11', 'Var12']]\n",
    "X_preditores = sm.add_constant(X_preditores)\n",
    "Y_alvo = dados['Var14']"
   ]
  },
  {
   "cell_type": "code",
   "execution_count": 32,
   "metadata": {},
   "outputs": [
    {
     "data": {
      "text/plain": [
       "0      79.0\n",
       "1     130.0\n",
       "2      66.0\n",
       "3    1572.0\n",
       "4     325.0\n",
       "Name: Var14, dtype: float64"
      ]
     },
     "execution_count": 32,
     "metadata": {},
     "output_type": "execute_result"
    }
   ],
   "source": [
    "# Visualizando o Y_alvo\n",
    "\n",
    "Y_alvo.head()"
   ]
  },
  {
   "cell_type": "code",
   "execution_count": 291,
   "metadata": {},
   "outputs": [
    {
     "data": {
      "text/html": [
       "<div>\n",
       "<style scoped>\n",
       "    .dataframe tbody tr th:only-of-type {\n",
       "        vertical-align: middle;\n",
       "    }\n",
       "\n",
       "    .dataframe tbody tr th {\n",
       "        vertical-align: top;\n",
       "    }\n",
       "\n",
       "    .dataframe thead th {\n",
       "        text-align: right;\n",
       "    }\n",
       "</style>\n",
       "<table border=\"1\" class=\"dataframe\">\n",
       "  <thead>\n",
       "    <tr style=\"text-align: right;\">\n",
       "      <th></th>\n",
       "      <th>const</th>\n",
       "      <th>Var1</th>\n",
       "      <th>Var6</th>\n",
       "      <th>Var7</th>\n",
       "      <th>Var8</th>\n",
       "    </tr>\n",
       "  </thead>\n",
       "  <tbody>\n",
       "    <tr>\n",
       "      <th>0</th>\n",
       "      <td>1.0</td>\n",
       "      <td>1</td>\n",
       "      <td>2752</td>\n",
       "      <td>5091</td>\n",
       "      <td>178</td>\n",
       "    </tr>\n",
       "    <tr>\n",
       "      <th>1</th>\n",
       "      <td>1.0</td>\n",
       "      <td>2</td>\n",
       "      <td>10460</td>\n",
       "      <td>19057</td>\n",
       "      <td>1457</td>\n",
       "    </tr>\n",
       "    <tr>\n",
       "      <th>2</th>\n",
       "      <td>1.0</td>\n",
       "      <td>1</td>\n",
       "      <td>2413</td>\n",
       "      <td>4373</td>\n",
       "      <td>177</td>\n",
       "    </tr>\n",
       "    <tr>\n",
       "      <th>3</th>\n",
       "      <td>1.0</td>\n",
       "      <td>1</td>\n",
       "      <td>50128</td>\n",
       "      <td>87991</td>\n",
       "      <td>2211</td>\n",
       "    </tr>\n",
       "    <tr>\n",
       "      <th>4</th>\n",
       "      <td>1.0</td>\n",
       "      <td>1</td>\n",
       "      <td>7244</td>\n",
       "      <td>13594</td>\n",
       "      <td>671</td>\n",
       "    </tr>\n",
       "  </tbody>\n",
       "</table>\n",
       "</div>"
      ],
      "text/plain": [
       "   const  Var1   Var6   Var7  Var8\n",
       "0    1.0     1   2752   5091   178\n",
       "1    1.0     2  10460  19057  1457\n",
       "2    1.0     1   2413   4373   177\n",
       "3    1.0     1  50128  87991  2211\n",
       "4    1.0     1   7244  13594   671"
      ]
     },
     "execution_count": 291,
     "metadata": {},
     "output_type": "execute_result"
    }
   ],
   "source": [
    "# Visualizando o X_previsores\n",
    "\n",
    "X_preditores.head()"
   ]
  },
  {
   "cell_type": "code",
   "execution_count": 293,
   "metadata": {},
   "outputs": [
    {
     "data": {
      "text/plain": [
       "0.5695007165937241"
      ]
     },
     "execution_count": 293,
     "metadata": {},
     "output_type": "execute_result"
    }
   ],
   "source": [
    "# Verificar a correlação entre as variáveis\n",
    "\n",
    "dados['Var14'].corr(dados['Var8'])"
   ]
  },
  {
   "cell_type": "code",
   "execution_count": 295,
   "metadata": {},
   "outputs": [
    {
     "data": {
      "text/plain": [
       "0.2532178508634234"
      ]
     },
     "execution_count": 295,
     "metadata": {},
     "output_type": "execute_result"
    }
   ],
   "source": [
    "dados['Var14'].corr(dados['Var11'])"
   ]
  },
  {
   "cell_type": "code",
   "execution_count": 296,
   "metadata": {},
   "outputs": [
    {
     "data": {
      "text/plain": [
       "0.6315042585530127"
      ]
     },
     "execution_count": 296,
     "metadata": {},
     "output_type": "execute_result"
    }
   ],
   "source": [
    "dados['Var14'].corr(dados['Var12'])"
   ]
  },
  {
   "cell_type": "code",
   "execution_count": 257,
   "metadata": {},
   "outputs": [
    {
     "name": "stdout",
     "output_type": "stream",
     "text": [
      "                            OLS Regression Results                            \n",
      "==============================================================================\n",
      "Dep. Variable:                  Var14   R-squared:                       0.464\n",
      "Model:                            OLS   Adj. R-squared:                  0.461\n",
      "Method:                 Least Squares   F-statistic:                     143.2\n",
      "Date:                Sun, 10 Nov 2019   Prob (F-statistic):           7.66e-67\n",
      "Time:                        11:01:50   Log-Likelihood:                -3442.0\n",
      "No. Observations:                 500   AIC:                             6892.\n",
      "Df Residuals:                     496   BIC:                             6909.\n",
      "Df Model:                           3                                         \n",
      "Covariance Type:            nonrobust                                         \n",
      "==============================================================================\n",
      "                 coef    std err          t      P>|t|      [0.025      0.975]\n",
      "------------------------------------------------------------------------------\n",
      "const        -42.7083     15.165     -2.816      0.005     -72.504     -12.912\n",
      "Var8           0.0891      0.014      6.457      0.000       0.062       0.116\n",
      "Var11         -0.0007      0.000     -3.310      0.001      -0.001      -0.000\n",
      "Var12          0.0229      0.002     10.886      0.000       0.019       0.027\n",
      "==============================================================================\n",
      "Omnibus:                      647.907   Durbin-Watson:                   2.103\n",
      "Prob(Omnibus):                  0.000   Jarque-Bera (JB):           159162.712\n",
      "Skew:                           6.072   Prob(JB):                         0.00\n",
      "Kurtosis:                      89.558   Cond. No.                     8.91e+04\n",
      "==============================================================================\n",
      "\n",
      "Warnings:\n",
      "[1] Standard Errors assume that the covariance matrix of the errors is correctly specified.\n",
      "[2] The condition number is large, 8.91e+04. This might indicate that there are\n",
      "strong multicollinearity or other numerical problems.\n"
     ]
    }
   ],
   "source": [
    "# Estimar um modelo de regressão e visualizar seu resultado\n",
    "# O R quanto mais próximo de 100 melhor\n",
    "\n",
    "resultado_regressao = sm.OLS(Y_alvo, X_preditores).fit()\n",
    "print(resultado_regressao.summary())"
   ]
  },
  {
   "cell_type": "code",
   "execution_count": 258,
   "metadata": {},
   "outputs": [],
   "source": [
    "# Separando o conjunto de dados em Conjunto de Treino e Validação\n",
    "\n",
    "from sklearn.model_selection import train_test_split\n",
    "X_train,X_test,y_train,y_test = train_test_split(X_preditores,Y_alvo,test_size=0.30,random_state=0)"
   ]
  },
  {
   "cell_type": "code",
   "execution_count": 298,
   "metadata": {},
   "outputs": [
    {
     "data": {
      "text/plain": [
       "LinearRegression(copy_X=True, fit_intercept=True, n_jobs=None, normalize=False)"
      ]
     },
     "execution_count": 298,
     "metadata": {},
     "output_type": "execute_result"
    }
   ],
   "source": [
    "# Treinando e testando o modelo\n",
    "\n",
    "from sklearn.linear_model import LinearRegression\n",
    "model = LinearRegression()\n",
    "model.fit(X_train, y_train)"
   ]
  },
  {
   "cell_type": "code",
   "execution_count": 299,
   "metadata": {},
   "outputs": [
    {
     "data": {
      "text/plain": [
       "0.3098638487355894"
      ]
     },
     "execution_count": 299,
     "metadata": {},
     "output_type": "execute_result"
    }
   ],
   "source": [
    "# Podemos considerar uma correlação baixa\n",
    "\n",
    "model.score(X_train, y_train)"
   ]
  },
  {
   "cell_type": "code",
   "execution_count": 297,
   "metadata": {},
   "outputs": [
    {
     "data": {
      "text/plain": [
       "array([ 0.00000000e+00, -4.24367213e+00,  2.10957240e-04,  1.35107439e-05,\n",
       "        9.33072554e-03])"
      ]
     },
     "execution_count": 297,
     "metadata": {},
     "output_type": "execute_result"
    }
   ],
   "source": [
    "# Coeficiente\n",
    "\n",
    "model.coef_"
   ]
  },
  {
   "cell_type": "code",
   "execution_count": null,
   "metadata": {},
   "outputs": [],
   "source": [
    "# Previsões com modelo\n",
    "\n",
    "previsoes = model.predict(X_train)"
   ]
  },
  {
   "cell_type": "code",
   "execution_count": 300,
   "metadata": {},
   "outputs": [
    {
     "data": {
      "text/plain": [
       "-0.3262842068189964"
      ]
     },
     "execution_count": 300,
     "metadata": {},
     "output_type": "execute_result"
    }
   ],
   "source": [
    "# Retorna o coeficiente de determinação R2 da previsão.\n",
    "\n",
    "model.score(X_test, y_test)"
   ]
  },
  {
   "cell_type": "code",
   "execution_count": 263,
   "metadata": {},
   "outputs": [
    {
     "data": {
      "text/plain": [
       "130.25450620705502"
      ]
     },
     "execution_count": 263,
     "metadata": {},
     "output_type": "execute_result"
    }
   ],
   "source": [
    "resultado = abs(y_train - previsoes)\n",
    "resultado.mean()"
   ]
  },
  {
   "cell_type": "code",
   "execution_count": 264,
   "metadata": {},
   "outputs": [
    {
     "name": "stdout",
     "output_type": "stream",
     "text": [
      "130.254506207055\n",
      "69436.61381485622\n"
     ]
    }
   ],
   "source": [
    "# Importar o erro da média absoluta e a média do erro quadrado\n",
    "\n",
    "from sklearn.metrics import mean_absolute_error, mean_squared_error\n",
    "mae = mean_absolute_error(y_train, previsoes)\n",
    "mse = mean_squared_error(y_train, previsoes)\n",
    "print(mae)\n",
    "print(mse)"
   ]
  },
  {
   "cell_type": "code",
   "execution_count": 265,
   "metadata": {},
   "outputs": [],
   "source": [
    "# Pontuando o Modelo\n",
    "\n",
    "from sklearn.metrics import r2_score, mean_squared_error"
   ]
  },
  {
   "cell_type": "code",
   "execution_count": 266,
   "metadata": {},
   "outputs": [],
   "source": [
    "# Predizendo a base de teste para nosso Conjunto de Validação\n",
    "\n",
    "y_pred = model.predict(X_test)"
   ]
  },
  {
   "cell_type": "code",
   "execution_count": 267,
   "metadata": {},
   "outputs": [
    {
     "name": "stdout",
     "output_type": "stream",
     "text": [
      "R2 score: 0.4735173085120722\n"
     ]
    }
   ],
   "source": [
    "# Valor de R2 perto de 1 nos diz que é um bom modelo\n",
    "\n",
    "print(f\"R2 score: {r2_score(y_test, y_pred)}\")"
   ]
  },
  {
   "cell_type": "code",
   "execution_count": 268,
   "metadata": {},
   "outputs": [
    {
     "name": "stdout",
     "output_type": "stream",
     "text": [
      "MSE score: 24379.98786807277\n"
     ]
    }
   ],
   "source": [
    "# MSE Score perto de 0 é um bom modelo\n",
    "\n",
    "print(f\"MSE score: {mean_squared_error(y_test, y_pred)}\")"
   ]
  },
  {
   "cell_type": "markdown",
   "metadata": {},
   "source": [
    "# C) Número total de compartilhamentos;"
   ]
  },
  {
   "cell_type": "markdown",
   "metadata": {},
   "source": [
    "# Variáveis independentes - (Var7, Var8, Var10)\n",
    "# Variável dependente - (Var15)\n",
    "\n",
    "# EQUAÇÃO DE REGRESSÃO MÚLTIPLA\n",
    "\n",
    "$Y_i = \\beta_0 + \\beta_1X_1$ + $\\beta_2X_2$ + ... + $\\beta_iX_i$,"
   ]
  },
  {
   "cell_type": "code",
   "execution_count": null,
   "metadata": {},
   "outputs": [],
   "source": [
    "# Foi escolhido essas variáveis independentes pois as mesmas tem ligações diretas com a variável dependente, e dessa forma há alteração no resultado final."
   ]
  },
  {
   "cell_type": "code",
   "execution_count": 228,
   "metadata": {},
   "outputs": [
    {
     "name": "stderr",
     "output_type": "stream",
     "text": [
      "C:\\Users\\PC\\Anaconda3\\lib\\site-packages\\numpy\\core\\fromnumeric.py:2389: FutureWarning: Method .ptp is deprecated and will be removed in a future version. Use numpy.ptp instead.\n",
      "  return ptp(axis=axis, out=out, **kwargs)\n"
     ]
    }
   ],
   "source": [
    "# Adicionando uma constante a matriz X_preditores\n",
    "\n",
    "X_preditores = dados[['Var7', 'Var8', 'Var10']]\n",
    "X_preditores = sm.add_constant(X_preditores)\n",
    "Y_alvo = dados['Var15']"
   ]
  },
  {
   "cell_type": "code",
   "execution_count": 229,
   "metadata": {},
   "outputs": [
    {
     "data": {
      "text/plain": [
       "0     17.0\n",
       "1     29.0\n",
       "2     14.0\n",
       "3    147.0\n",
       "4     49.0\n",
       "Name: Var15, dtype: float64"
      ]
     },
     "execution_count": 229,
     "metadata": {},
     "output_type": "execute_result"
    }
   ],
   "source": [
    "# Visualizando o Y_alvo\n",
    "\n",
    "Y_alvo.head()"
   ]
  },
  {
   "cell_type": "code",
   "execution_count": 320,
   "metadata": {},
   "outputs": [
    {
     "data": {
      "text/html": [
       "<div>\n",
       "<style scoped>\n",
       "    .dataframe tbody tr th:only-of-type {\n",
       "        vertical-align: middle;\n",
       "    }\n",
       "\n",
       "    .dataframe tbody tr th {\n",
       "        vertical-align: top;\n",
       "    }\n",
       "\n",
       "    .dataframe thead th {\n",
       "        text-align: right;\n",
       "    }\n",
       "</style>\n",
       "<table border=\"1\" class=\"dataframe\">\n",
       "  <thead>\n",
       "    <tr style=\"text-align: right;\">\n",
       "      <th></th>\n",
       "      <th>const</th>\n",
       "      <th>Var1</th>\n",
       "      <th>Var6</th>\n",
       "      <th>Var7</th>\n",
       "      <th>Var8</th>\n",
       "    </tr>\n",
       "  </thead>\n",
       "  <tbody>\n",
       "    <tr>\n",
       "      <th>0</th>\n",
       "      <td>1.0</td>\n",
       "      <td>1</td>\n",
       "      <td>2752</td>\n",
       "      <td>5091</td>\n",
       "      <td>178</td>\n",
       "    </tr>\n",
       "    <tr>\n",
       "      <th>1</th>\n",
       "      <td>1.0</td>\n",
       "      <td>2</td>\n",
       "      <td>10460</td>\n",
       "      <td>19057</td>\n",
       "      <td>1457</td>\n",
       "    </tr>\n",
       "    <tr>\n",
       "      <th>2</th>\n",
       "      <td>1.0</td>\n",
       "      <td>1</td>\n",
       "      <td>2413</td>\n",
       "      <td>4373</td>\n",
       "      <td>177</td>\n",
       "    </tr>\n",
       "    <tr>\n",
       "      <th>3</th>\n",
       "      <td>1.0</td>\n",
       "      <td>1</td>\n",
       "      <td>50128</td>\n",
       "      <td>87991</td>\n",
       "      <td>2211</td>\n",
       "    </tr>\n",
       "    <tr>\n",
       "      <th>4</th>\n",
       "      <td>1.0</td>\n",
       "      <td>1</td>\n",
       "      <td>7244</td>\n",
       "      <td>13594</td>\n",
       "      <td>671</td>\n",
       "    </tr>\n",
       "  </tbody>\n",
       "</table>\n",
       "</div>"
      ],
      "text/plain": [
       "   const  Var1   Var6   Var7  Var8\n",
       "0    1.0     1   2752   5091   178\n",
       "1    1.0     2  10460  19057  1457\n",
       "2    1.0     1   2413   4373   177\n",
       "3    1.0     1  50128  87991  2211\n",
       "4    1.0     1   7244  13594   671"
      ]
     },
     "execution_count": 320,
     "metadata": {},
     "output_type": "execute_result"
    }
   ],
   "source": [
    "# Visualizando o X_preditores\n",
    "\n",
    "X_preditores.head()"
   ]
  },
  {
   "cell_type": "code",
   "execution_count": 321,
   "metadata": {},
   "outputs": [
    {
     "data": {
      "text/plain": [
       "0.28720045156522245"
      ]
     },
     "execution_count": 321,
     "metadata": {},
     "output_type": "execute_result"
    }
   ],
   "source": [
    "# Verificar a correlação entre as variáveis\n",
    "\n",
    "dados['Var15'].corr(dados['Var7'])"
   ]
  },
  {
   "cell_type": "code",
   "execution_count": 322,
   "metadata": {},
   "outputs": [
    {
     "data": {
      "text/plain": [
       "0.5311625144040234"
      ]
     },
     "execution_count": 322,
     "metadata": {},
     "output_type": "execute_result"
    }
   ],
   "source": [
    "# Verificar a correlação entre as variáveis\n",
    "\n",
    "dados['Var15'].corr(dados['Var8'])"
   ]
  },
  {
   "cell_type": "code",
   "execution_count": null,
   "metadata": {},
   "outputs": [],
   "source": [
    "# Verificar a correlação entre as variáveis\n",
    "\n",
    "dados['Var15'].corr(dados['Var10'])"
   ]
  },
  {
   "cell_type": "code",
   "execution_count": 230,
   "metadata": {
    "scrolled": true
   },
   "outputs": [
    {
     "name": "stdout",
     "output_type": "stream",
     "text": [
      "                            OLS Regression Results                            \n",
      "==============================================================================\n",
      "Dep. Variable:                  Var15   R-squared:                       0.336\n",
      "Model:                            OLS   Adj. R-squared:                  0.332\n",
      "Method:                 Least Squares   F-statistic:                     83.77\n",
      "Date:                Sun, 10 Nov 2019   Prob (F-statistic):           7.39e-44\n",
      "Time:                        10:48:33   Log-Likelihood:                -2480.6\n",
      "No. Observations:                 500   AIC:                             4969.\n",
      "Df Residuals:                     496   BIC:                             4986.\n",
      "Df Model:                           3                                         \n",
      "Covariance Type:            nonrobust                                         \n",
      "==============================================================================\n",
      "                 coef    std err          t      P>|t|      [0.025      0.975]\n",
      "------------------------------------------------------------------------------\n",
      "const          6.8751      2.131      3.226      0.001       2.688      11.062\n",
      "Var7         5.42e-05   2.18e-05      2.490      0.013    1.14e-05     9.7e-05\n",
      "Var8           0.0297      0.002     13.224      0.000       0.025       0.034\n",
      "Var10         -0.0061      0.001     -5.765      0.000      -0.008      -0.004\n",
      "==============================================================================\n",
      "Omnibus:                      773.800   Durbin-Watson:                   1.932\n",
      "Prob(Omnibus):                  0.000   Jarque-Bera (JB):           436734.694\n",
      "Skew:                           8.247   Prob(JB):                         0.00\n",
      "Kurtosis:                     146.844   Cond. No.                     1.13e+05\n",
      "==============================================================================\n",
      "\n",
      "Warnings:\n",
      "[1] Standard Errors assume that the covariance matrix of the errors is correctly specified.\n",
      "[2] The condition number is large, 1.13e+05. This might indicate that there are\n",
      "strong multicollinearity or other numerical problems.\n"
     ]
    }
   ],
   "source": [
    "# Estimar um modelo de regressão e visualizar seu resultado\n",
    "# O R quanto mais próximo de 100 melhor\n",
    "\n",
    "resultado_regressao = sm.OLS(Y_alvo, X_preditores).fit()\n",
    "print(resultado_regressao.summary())"
   ]
  },
  {
   "cell_type": "code",
   "execution_count": 231,
   "metadata": {},
   "outputs": [],
   "source": [
    "# Separando o conjunto de dados em Conjunto de Treino e Validação\n",
    "\n",
    "from sklearn.model_selection import train_test_split\n",
    "X_train,X_test,y_train,y_test = train_test_split(X_preditores,Y_alvo,test_size=0.30,random_state=0)"
   ]
  },
  {
   "cell_type": "code",
   "execution_count": 304,
   "metadata": {},
   "outputs": [
    {
     "data": {
      "text/plain": [
       "LinearRegression(copy_X=True, fit_intercept=True, n_jobs=None, normalize=False)"
      ]
     },
     "execution_count": 304,
     "metadata": {},
     "output_type": "execute_result"
    }
   ],
   "source": [
    "# Treinando e testando o modelo\n",
    "\n",
    "from sklearn.linear_model import LinearRegression\n",
    "model = LinearRegression()\n",
    "model.fit(X_train, y_train)"
   ]
  },
  {
   "cell_type": "code",
   "execution_count": 303,
   "metadata": {},
   "outputs": [
    {
     "data": {
      "text/plain": [
       "0.3098638487355894"
      ]
     },
     "execution_count": 303,
     "metadata": {},
     "output_type": "execute_result"
    }
   ],
   "source": [
    "# Podemos considerar uma correlação baixa\n",
    "\n",
    "model.score(X_train, y_train)"
   ]
  },
  {
   "cell_type": "code",
   "execution_count": 305,
   "metadata": {},
   "outputs": [
    {
     "data": {
      "text/plain": [
       "array([ 0.00000000e+00, -4.24367213e+00,  2.10957240e-04,  1.35107439e-05,\n",
       "        9.33072554e-03])"
      ]
     },
     "execution_count": 305,
     "metadata": {},
     "output_type": "execute_result"
    }
   ],
   "source": [
    "# Coeficiente\n",
    "\n",
    "model.coef_"
   ]
  },
  {
   "cell_type": "code",
   "execution_count": 308,
   "metadata": {},
   "outputs": [
    {
     "data": {
      "text/plain": [
       "-0.3262842068189964"
      ]
     },
     "execution_count": 308,
     "metadata": {},
     "output_type": "execute_result"
    }
   ],
   "source": [
    "# Retorna o coeficiente de determinação R2 da previsão.\n",
    "\n",
    "model.score(X_test, y_test)"
   ]
  },
  {
   "cell_type": "code",
   "execution_count": 307,
   "metadata": {},
   "outputs": [
    {
     "data": {
      "text/plain": [
       "8.417815689452178"
      ]
     },
     "execution_count": 307,
     "metadata": {},
     "output_type": "execute_result"
    }
   ],
   "source": [
    "resultado = abs(y_train - previsoes)\n",
    "resultado.mean()"
   ]
  },
  {
   "cell_type": "code",
   "execution_count": 235,
   "metadata": {},
   "outputs": [
    {
     "name": "stdout",
     "output_type": "stream",
     "text": [
      "22.20156582362202\n",
      "2174.9275837348314\n"
     ]
    }
   ],
   "source": [
    "# Importar o erro da média absoluta e a média do erro quadrado\n",
    "\n",
    "from sklearn.metrics import mean_absolute_error, mean_squared_error\n",
    "mae = mean_absolute_error(y_train, previsoes)\n",
    "mse = mean_squared_error(y_train, previsoes)\n",
    "print(mae)\n",
    "print(mse)"
   ]
  },
  {
   "cell_type": "code",
   "execution_count": 311,
   "metadata": {},
   "outputs": [],
   "source": [
    "# Pontuando o Modelo\n",
    "\n",
    "from sklearn.metrics import r2_score, mean_squared_error"
   ]
  },
  {
   "cell_type": "code",
   "execution_count": 310,
   "metadata": {},
   "outputs": [],
   "source": [
    "# Predizendo a base de teste para nosso Conjunto de Validação\n",
    "\n",
    "y_pred = model.predict(X_test)"
   ]
  },
  {
   "cell_type": "code",
   "execution_count": 237,
   "metadata": {},
   "outputs": [
    {
     "name": "stdout",
     "output_type": "stream",
     "text": [
      "R2 score: -160.86204454242628\n"
     ]
    }
   ],
   "source": [
    "# Valor de R2 perto de 1 nos diz que é um bom modelo\n",
    "\n",
    "print(f\"R2 score: {r2_score(y_test, y_pred)}\")"
   ]
  },
  {
   "cell_type": "code",
   "execution_count": 238,
   "metadata": {},
   "outputs": [
    {
     "name": "stdout",
     "output_type": "stream",
     "text": [
      "MSE score: 75811.14595562004\n"
     ]
    }
   ],
   "source": [
    "# MSE Score perto de 0 é um bom modelo\n",
    "\n",
    "print(f\"MSE score: {mean_squared_error(y_test, y_pred)}\")"
   ]
  },
  {
   "cell_type": "markdown",
   "metadata": {},
   "source": [
    "# D) Número total de interações."
   ]
  },
  {
   "cell_type": "markdown",
   "metadata": {},
   "source": [
    "# Variáveis independentes - (Var6, Var7, Var8, Var9, Var10, Var11, Var12, Var13, Var14 e Var15)\n",
    "# Variável dependente - (Var16)\n",
    "\n",
    "# EQUAÇÃO DE REGRESSÃO MÚLTIPLA\n",
    "\n",
    "$Y_i = \\beta_0 + \\beta_1X_1$ + $\\beta_2X_2$ + ... + $\\beta_iX_i$,"
   ]
  },
  {
   "cell_type": "code",
   "execution_count": null,
   "metadata": {},
   "outputs": [],
   "source": [
    "# Foi escolhido essas variáveis independentes pois as mesmas tem ligações diretas com a variável dependente, e dessa forma há alteração no resultado final."
   ]
  },
  {
   "cell_type": "code",
   "execution_count": 67,
   "metadata": {},
   "outputs": [
    {
     "name": "stderr",
     "output_type": "stream",
     "text": [
      "C:\\Users\\PC\\Anaconda3\\lib\\site-packages\\numpy\\core\\fromnumeric.py:2389: FutureWarning: Method .ptp is deprecated and will be removed in a future version. Use numpy.ptp instead.\n",
      "  return ptp(axis=axis, out=out, **kwargs)\n"
     ]
    }
   ],
   "source": [
    "# Adicionando uma constante a matriz X_preditores\n",
    "\n",
    "X_preditores = dados[['Var6', 'Var7', 'Var8','Var9','Var10','Var11','Var12','Var13','Var14','Var15']]\n",
    "X_preditores = sm.add_constant(X_preditores)\n",
    "Y_alvo = dados['Var16']"
   ]
  },
  {
   "cell_type": "code",
   "execution_count": 68,
   "metadata": {},
   "outputs": [
    {
     "data": {
      "text/plain": [
       "0     100\n",
       "1     164\n",
       "2      80\n",
       "3    1777\n",
       "4     393\n",
       "Name: Var16, dtype: int64"
      ]
     },
     "execution_count": 68,
     "metadata": {},
     "output_type": "execute_result"
    }
   ],
   "source": [
    "# Visualizando o Y_alvo\n",
    "\n",
    "Y_alvo.head()"
   ]
  },
  {
   "cell_type": "code",
   "execution_count": 323,
   "metadata": {},
   "outputs": [
    {
     "data": {
      "text/html": [
       "<div>\n",
       "<style scoped>\n",
       "    .dataframe tbody tr th:only-of-type {\n",
       "        vertical-align: middle;\n",
       "    }\n",
       "\n",
       "    .dataframe tbody tr th {\n",
       "        vertical-align: top;\n",
       "    }\n",
       "\n",
       "    .dataframe thead th {\n",
       "        text-align: right;\n",
       "    }\n",
       "</style>\n",
       "<table border=\"1\" class=\"dataframe\">\n",
       "  <thead>\n",
       "    <tr style=\"text-align: right;\">\n",
       "      <th></th>\n",
       "      <th>const</th>\n",
       "      <th>Var1</th>\n",
       "      <th>Var6</th>\n",
       "      <th>Var7</th>\n",
       "      <th>Var8</th>\n",
       "    </tr>\n",
       "  </thead>\n",
       "  <tbody>\n",
       "    <tr>\n",
       "      <th>0</th>\n",
       "      <td>1.0</td>\n",
       "      <td>1</td>\n",
       "      <td>2752</td>\n",
       "      <td>5091</td>\n",
       "      <td>178</td>\n",
       "    </tr>\n",
       "    <tr>\n",
       "      <th>1</th>\n",
       "      <td>1.0</td>\n",
       "      <td>2</td>\n",
       "      <td>10460</td>\n",
       "      <td>19057</td>\n",
       "      <td>1457</td>\n",
       "    </tr>\n",
       "    <tr>\n",
       "      <th>2</th>\n",
       "      <td>1.0</td>\n",
       "      <td>1</td>\n",
       "      <td>2413</td>\n",
       "      <td>4373</td>\n",
       "      <td>177</td>\n",
       "    </tr>\n",
       "    <tr>\n",
       "      <th>3</th>\n",
       "      <td>1.0</td>\n",
       "      <td>1</td>\n",
       "      <td>50128</td>\n",
       "      <td>87991</td>\n",
       "      <td>2211</td>\n",
       "    </tr>\n",
       "    <tr>\n",
       "      <th>4</th>\n",
       "      <td>1.0</td>\n",
       "      <td>1</td>\n",
       "      <td>7244</td>\n",
       "      <td>13594</td>\n",
       "      <td>671</td>\n",
       "    </tr>\n",
       "  </tbody>\n",
       "</table>\n",
       "</div>"
      ],
      "text/plain": [
       "   const  Var1   Var6   Var7  Var8\n",
       "0    1.0     1   2752   5091   178\n",
       "1    1.0     2  10460  19057  1457\n",
       "2    1.0     1   2413   4373   177\n",
       "3    1.0     1  50128  87991  2211\n",
       "4    1.0     1   7244  13594   671"
      ]
     },
     "execution_count": 323,
     "metadata": {},
     "output_type": "execute_result"
    }
   ],
   "source": [
    "# Visualizando o X_preditores\n",
    "\n",
    "X_preditores.head()"
   ]
  },
  {
   "cell_type": "code",
   "execution_count": 324,
   "metadata": {},
   "outputs": [
    {
     "data": {
      "text/plain": [
       "0.5385974423980837"
      ]
     },
     "execution_count": 324,
     "metadata": {},
     "output_type": "execute_result"
    }
   ],
   "source": [
    "# Verificar a correlação entre as variáveis\n",
    "\n",
    "dados['Var16'].corr(dados['Var6'])"
   ]
  },
  {
   "cell_type": "code",
   "execution_count": 325,
   "metadata": {},
   "outputs": [
    {
     "data": {
      "text/plain": [
       "0.343358124687173"
      ]
     },
     "execution_count": 325,
     "metadata": {},
     "output_type": "execute_result"
    }
   ],
   "source": [
    "# Verificar a correlação entre as variáveis\n",
    "\n",
    "dados['Var16'].corr(dados['Var7'])"
   ]
  },
  {
   "cell_type": "code",
   "execution_count": 326,
   "metadata": {},
   "outputs": [
    {
     "data": {
      "text/plain": [
       "0.5721594712521498"
      ]
     },
     "execution_count": 326,
     "metadata": {},
     "output_type": "execute_result"
    }
   ],
   "source": [
    "dados['Var16'].corr(dados['Var8'])"
   ]
  },
  {
   "cell_type": "code",
   "execution_count": 327,
   "metadata": {},
   "outputs": [
    {
     "data": {
      "text/plain": [
       "0.3545015255485539"
      ]
     },
     "execution_count": 327,
     "metadata": {},
     "output_type": "execute_result"
    }
   ],
   "source": [
    "dados['Var16'].corr(dados['Var9'])"
   ]
  },
  {
   "cell_type": "code",
   "execution_count": 328,
   "metadata": {},
   "outputs": [
    {
     "data": {
      "text/plain": [
       "0.2380821957904633"
      ]
     },
     "execution_count": 328,
     "metadata": {},
     "output_type": "execute_result"
    }
   ],
   "source": [
    "dados['Var16'].corr(dados['Var10'])"
   ]
  },
  {
   "cell_type": "code",
   "execution_count": 329,
   "metadata": {},
   "outputs": [
    {
     "data": {
      "text/plain": [
       "0.2500833217793491"
      ]
     },
     "execution_count": 329,
     "metadata": {},
     "output_type": "execute_result"
    }
   ],
   "source": [
    "dados['Var16'].corr(dados['Var11'])"
   ]
  },
  {
   "cell_type": "code",
   "execution_count": 330,
   "metadata": {},
   "outputs": [
    {
     "data": {
      "text/plain": [
       "0.617928694591023"
      ]
     },
     "execution_count": 330,
     "metadata": {},
     "output_type": "execute_result"
    }
   ],
   "source": [
    "dados['Var16'].corr(dados['Var12'])"
   ]
  },
  {
   "cell_type": "code",
   "execution_count": 331,
   "metadata": {},
   "outputs": [
    {
     "data": {
      "text/plain": [
       "0.8649438796118738"
      ]
     },
     "execution_count": 331,
     "metadata": {},
     "output_type": "execute_result"
    }
   ],
   "source": [
    "dados['Var16'].corr(dados['Var13'])"
   ]
  },
  {
   "cell_type": "code",
   "execution_count": 332,
   "metadata": {},
   "outputs": [
    {
     "data": {
      "text/plain": [
       "0.997603027806418"
      ]
     },
     "execution_count": 332,
     "metadata": {},
     "output_type": "execute_result"
    }
   ],
   "source": [
    "dados['Var16'].corr(dados['Var14'])"
   ]
  },
  {
   "cell_type": "code",
   "execution_count": null,
   "metadata": {},
   "outputs": [],
   "source": [
    "dados['Var16'].corr(dados['Var15'])"
   ]
  },
  {
   "cell_type": "code",
   "execution_count": 70,
   "metadata": {},
   "outputs": [
    {
     "name": "stdout",
     "output_type": "stream",
     "text": [
      "                            OLS Regression Results                            \n",
      "==============================================================================\n",
      "Dep. Variable:                  Var16   R-squared:                       1.000\n",
      "Model:                            OLS   Adj. R-squared:                  1.000\n",
      "Method:                 Least Squares   F-statistic:                 2.316e+05\n",
      "Date:                Sun, 10 Nov 2019   Prob (F-statistic):               0.00\n",
      "Time:                        08:23:27   Log-Likelihood:                -1563.5\n",
      "No. Observations:                 500   AIC:                             3149.\n",
      "Df Residuals:                     489   BIC:                             3195.\n",
      "Df Model:                          10                                         \n",
      "Covariance Type:            nonrobust                                         \n",
      "==============================================================================\n",
      "                 coef    std err          t      P>|t|      [0.025      0.975]\n",
      "------------------------------------------------------------------------------\n",
      "const         -0.6637      0.398     -1.667      0.096      -1.446       0.119\n",
      "Var6       -3.008e-05   4.24e-05     -0.709      0.479      -0.000    5.33e-05\n",
      "Var7        8.304e-06   1.63e-05      0.510      0.610   -2.37e-05    4.03e-05\n",
      "Var8           0.0159      0.008      2.043      0.042       0.001       0.031\n",
      "Var9          -0.0154      0.008     -2.012      0.045      -0.031      -0.000\n",
      "Var10       9.022e-05      0.000      0.491      0.624      -0.000       0.000\n",
      "Var11      -9.907e-06   1.79e-05     -0.554      0.580    -4.5e-05    2.52e-05\n",
      "Var12       7.622e-05   8.36e-05      0.911      0.363   -8.81e-05       0.000\n",
      "Var13          1.0186      0.026     39.830      0.000       0.968       1.069\n",
      "Var14          0.9852      0.008    130.926      0.000       0.970       1.000\n",
      "Var15          1.0075      0.018     56.703      0.000       0.973       1.042\n",
      "==============================================================================\n",
      "Omnibus:                     1171.203   Durbin-Watson:                   2.016\n",
      "Prob(Omnibus):                  0.000   Jarque-Bera (JB):          3647121.569\n",
      "Skew:                         -19.806   Prob(JB):                         0.00\n",
      "Kurtosis:                     419.525   Cond. No.                     1.62e+05\n",
      "==============================================================================\n",
      "\n",
      "Warnings:\n",
      "[1] Standard Errors assume that the covariance matrix of the errors is correctly specified.\n",
      "[2] The condition number is large, 1.62e+05. This might indicate that there are\n",
      "strong multicollinearity or other numerical problems.\n"
     ]
    }
   ],
   "source": [
    "# Estimar um modelo de regressão e visualizar seu resultado\n",
    "# O R quanto mais próximo de 100 melhor\n",
    "\n",
    "resultado_regressao = sm.OLS(Y_alvo, X_preditores).fit()\n",
    "print(resultado_regressao.summary())#"
   ]
  },
  {
   "cell_type": "code",
   "execution_count": 71,
   "metadata": {},
   "outputs": [],
   "source": [
    "# Separando o conjunto de dados em Conjunto de Treino e Validação\n",
    "\n",
    "from sklearn.model_selection import train_test_split\n",
    "X_train,X_test,y_train,y_test = train_test_split(X_preditores,Y_alvo,test_size=0.30,random_state=0)"
   ]
  },
  {
   "cell_type": "code",
   "execution_count": 312,
   "metadata": {},
   "outputs": [
    {
     "data": {
      "text/plain": [
       "LinearRegression(copy_X=True, fit_intercept=True, n_jobs=None, normalize=False)"
      ]
     },
     "execution_count": 312,
     "metadata": {},
     "output_type": "execute_result"
    }
   ],
   "source": [
    "# Treinando e testando o modelo\n",
    "\n",
    "from sklearn.linear_model import LinearRegression\n",
    "model = LinearRegression()\n",
    "model.fit(X_train, y_train)"
   ]
  },
  {
   "cell_type": "code",
   "execution_count": 313,
   "metadata": {},
   "outputs": [
    {
     "data": {
      "text/plain": [
       "0.3098638487355894"
      ]
     },
     "execution_count": 313,
     "metadata": {},
     "output_type": "execute_result"
    }
   ],
   "source": [
    "# Podemos considerar uma correlação baixa\n",
    "\n",
    "model.score(X_train, y_train)"
   ]
  },
  {
   "cell_type": "code",
   "execution_count": 73,
   "metadata": {},
   "outputs": [
    {
     "data": {
      "text/plain": [
       "array([ 0.00000000e+00, -4.26936533e-05,  1.19907760e-05,  2.32177026e-02,\n",
       "       -2.27381093e-02,  1.44710798e-04, -1.36708664e-05,  1.08327350e-04,\n",
       "        1.02024371e+00,  9.77896165e-01,  1.01773787e+00])"
      ]
     },
     "execution_count": 73,
     "metadata": {},
     "output_type": "execute_result"
    }
   ],
   "source": [
    "# Coeficiente\n",
    "\n",
    "model.coef_"
   ]
  },
  {
   "cell_type": "code",
   "execution_count": 319,
   "metadata": {},
   "outputs": [
    {
     "data": {
      "text/plain": [
       "-0.3262842068189964"
      ]
     },
     "execution_count": 319,
     "metadata": {},
     "output_type": "execute_result"
    }
   ],
   "source": [
    "# Retorna o coeficiente de determinação R2 da previsão.\n",
    "\n",
    "model.score(X_test, y_test)"
   ]
  },
  {
   "cell_type": "code",
   "execution_count": 315,
   "metadata": {},
   "outputs": [
    {
     "data": {
      "text/plain": [
       "8.417815689452178"
      ]
     },
     "execution_count": 315,
     "metadata": {},
     "output_type": "execute_result"
    }
   ],
   "source": [
    "resultado = abs(y_train - previsoes)\n",
    "resultado.mean()"
   ]
  },
  {
   "cell_type": "code",
   "execution_count": 317,
   "metadata": {},
   "outputs": [
    {
     "name": "stdout",
     "output_type": "stream",
     "text": [
      "8.41781568945218\n",
      "421.10395849122733\n"
     ]
    }
   ],
   "source": [
    "# Importar o erro da média absoluta e a média do erro quadrado\n",
    "\n",
    "from sklearn.metrics import mean_absolute_error, mean_squared_error\n",
    "mae = mean_absolute_error(y_train, previsoes)\n",
    "mse = mean_squared_error(y_train, previsoes)\n",
    "print(mae)\n",
    "print(mse)"
   ]
  },
  {
   "cell_type": "code",
   "execution_count": 318,
   "metadata": {},
   "outputs": [],
   "source": [
    "# Pontuando o Modelo\n",
    "\n",
    "from sklearn.metrics import r2_score, mean_squared_error"
   ]
  },
  {
   "cell_type": "code",
   "execution_count": 76,
   "metadata": {},
   "outputs": [],
   "source": [
    "# Predizendo a base de teste para nosso Conjunto de Validação\n",
    "\n",
    "y_pred = model.predict(X_test)"
   ]
  },
  {
   "cell_type": "code",
   "execution_count": 78,
   "metadata": {},
   "outputs": [
    {
     "name": "stdout",
     "output_type": "stream",
     "text": [
      "R2 score: 0.9999443741514471\n"
     ]
    }
   ],
   "source": [
    "# Valor de R2 perto de 1 nos diz que é um bom modelo\n",
    "\n",
    "print(f\"R2 score: {r2_score(y_test, y_pred)}\")"
   ]
  },
  {
   "cell_type": "code",
   "execution_count": 79,
   "metadata": {},
   "outputs": [
    {
     "name": "stdout",
     "output_type": "stream",
     "text": [
      "MSE score: 3.1679851334222904\n"
     ]
    }
   ],
   "source": [
    "# MSE Score perto de 0 é um bom modelo\n",
    "\n",
    "print(f\"MSE score: {mean_squared_error(y_test, y_pred)}\")"
   ]
  }
 ],
 "metadata": {
  "kernelspec": {
   "display_name": "Python 3",
   "language": "python",
   "name": "python3"
  },
  "language_info": {
   "codemirror_mode": {
    "name": "ipython",
    "version": 3
   },
   "file_extension": ".py",
   "mimetype": "text/x-python",
   "name": "python",
   "nbconvert_exporter": "python",
   "pygments_lexer": "ipython3",
   "version": "3.7.3"
  }
 },
 "nbformat": 4,
 "nbformat_minor": 2
}
